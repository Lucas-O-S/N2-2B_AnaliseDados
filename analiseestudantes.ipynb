{
  "nbformat": 4,
  "nbformat_minor": 0,
  "metadata": {
    "colab": {
      "provenance": [],
      "include_colab_link": true
    },
    "kernelspec": {
      "name": "python3",
      "display_name": "Python 3"
    },
    "language_info": {
      "name": "python"
    }
  },
  "cells": [
    {
      "cell_type": "markdown",
      "metadata": {
        "id": "view-in-github",
        "colab_type": "text"
      },
      "source": [
        "<a href=\"https://colab.research.google.com/github/Lucas-O-S/N2-2B_AnaliseDados/blob/Analise-Estatistica/analiseestudantes.ipynb\" target=\"_parent\"><img src=\"https://colab.research.google.com/assets/colab-badge.svg\" alt=\"Open In Colab\"/></a>"
      ]
    },
    {
      "cell_type": "markdown",
      "source": [
        "<a rel=\"license\" href=\"https://faculdadesalvadorarena.org.br/\"><img alt=\"FESA\" style=\"border-width:0\" src=\"https://faculdadesalvadorarena.org.br/wp-content/uploads/2022/07/logo_fesa.png\" /></a><br />\n",
        "**FESA - Eletiva II (2025.1)** <br/>\n",
        "\n",
        "Aluno(a): Adriana Kaori Kakazu - RA: 082220004 <br/>\n",
        "Aluno(a): Lucas Oliveira Silva - RA: 082220019 <br/>\n",
        "Aluno(a): Vitoria Kaori Kuriyama - RA: 082220005 <br/>\n",
        "Data: 07/06/2025 <br/>"
      ],
      "metadata": {
        "id": "gyc_Xqs3_kZt"
      }
    },
    {
      "cell_type": "markdown",
      "source": [
        "#1: Preprarando Dataset"
      ],
      "metadata": {
        "id": "BYD1z7NM_nrs"
      }
    },
    {
      "cell_type": "markdown",
      "source": [
        "##1.1: Importações\n"
      ],
      "metadata": {
        "id": "6aVvoAg2ATl8"
      }
    },
    {
      "cell_type": "code",
      "source": [
        "import pandas as pd\n",
        "import matplotlib.pyplot as plt\n",
        "import seaborn as sns\n"
      ],
      "metadata": {
        "id": "RblVtM28AV9c"
      },
      "execution_count": 46,
      "outputs": []
    },
    {
      "cell_type": "code",
      "execution_count": 22,
      "metadata": {
        "id": "MTQN1HGh_fdE"
      },
      "outputs": [],
      "source": [
        "UrlDataset = \"https://raw.githubusercontent.com/Lucas-O-S/N2-2B_AnaliseDados/refs/heads/main/dataset/student_habits_performance.csv\"\n",
        "\n",
        "dataset = pd.read_csv(UrlDataset, sep=\",\")"
      ]
    },
    {
      "cell_type": "markdown",
      "source": [
        "#2: Análise Exploratória de Dados (EDA)"
      ],
      "metadata": {
        "id": "QkkmKvCW3XdQ"
      }
    },
    {
      "cell_type": "markdown",
      "source": [
        "##2.1: Verificação dos dados"
      ],
      "metadata": {
        "id": "L56ohBO03ktP"
      }
    },
    {
      "cell_type": "markdown",
      "source": [
        "Objetivo tratar a base de dados: verificar a presença de dados ausentes (missing values), valores duplicados ou inconsistências nos dados antes de iniciar as análises"
      ],
      "metadata": {
        "id": "xCkxJ6YTe0LF"
      }
    },
    {
      "cell_type": "markdown",
      "source": [
        "### 2.1.1: Dados ausentes"
      ],
      "metadata": {
        "id": "yXZ0k6F7e-HU"
      }
    },
    {
      "cell_type": "code",
      "source": [
        "print(dataset.isnull().sum())"
      ],
      "metadata": {
        "id": "obbPQmOd3582",
        "outputId": "68b765c8-9457-4577-c5bb-0939ad272c0f",
        "colab": {
          "base_uri": "https://localhost:8080/"
        }
      },
      "execution_count": 23,
      "outputs": [
        {
          "output_type": "stream",
          "name": "stdout",
          "text": [
            "student_id                        0\n",
            "age                               0\n",
            "gender                            0\n",
            "study_hours_per_day               0\n",
            "social_media_hours                0\n",
            "netflix_hours                     0\n",
            "part_time_job                     0\n",
            "attendance_percentage             0\n",
            "sleep_hours                       0\n",
            "diet_quality                      0\n",
            "exercise_frequency                0\n",
            "parental_education_level         91\n",
            "internet_quality                  0\n",
            "mental_health_rating              0\n",
            "extracurricular_participation     0\n",
            "exam_score                        0\n",
            "dtype: int64\n"
          ]
        }
      ]
    },
    {
      "cell_type": "markdown",
      "source": [
        "Remover linhas com dados ausentes"
      ],
      "metadata": {
        "id": "T_BXkFLEg2Sj"
      }
    },
    {
      "cell_type": "code",
      "source": [
        "dataset = dataset.dropna()"
      ],
      "metadata": {
        "id": "wqiDuLPig5NH"
      },
      "execution_count": 24,
      "outputs": []
    },
    {
      "cell_type": "markdown",
      "source": [
        "Verificar se foram removidas"
      ],
      "metadata": {
        "id": "H3uOksBwjdq4"
      }
    },
    {
      "cell_type": "code",
      "source": [
        "print(dataset.isnull().sum())"
      ],
      "metadata": {
        "id": "D_CkpdRbjcOW",
        "outputId": "d13c1458-1c56-4562-ea84-13d8f90341cb",
        "colab": {
          "base_uri": "https://localhost:8080/"
        }
      },
      "execution_count": 25,
      "outputs": [
        {
          "output_type": "stream",
          "name": "stdout",
          "text": [
            "student_id                       0\n",
            "age                              0\n",
            "gender                           0\n",
            "study_hours_per_day              0\n",
            "social_media_hours               0\n",
            "netflix_hours                    0\n",
            "part_time_job                    0\n",
            "attendance_percentage            0\n",
            "sleep_hours                      0\n",
            "diet_quality                     0\n",
            "exercise_frequency               0\n",
            "parental_education_level         0\n",
            "internet_quality                 0\n",
            "mental_health_rating             0\n",
            "extracurricular_participation    0\n",
            "exam_score                       0\n",
            "dtype: int64\n"
          ]
        }
      ]
    },
    {
      "cell_type": "markdown",
      "source": [
        "### 2.1.2: Dados duplicados"
      ],
      "metadata": {
        "id": "yFPBBmNjfSv8"
      }
    },
    {
      "cell_type": "code",
      "source": [
        "print(f'Duplicatas: {dataset.duplicated().sum()} linhas')"
      ],
      "metadata": {
        "id": "uFLyNGCTfaYX",
        "outputId": "93e36ce5-8c87-4ae8-ed50-1600747a10a3",
        "colab": {
          "base_uri": "https://localhost:8080/"
        }
      },
      "execution_count": 26,
      "outputs": [
        {
          "output_type": "stream",
          "name": "stdout",
          "text": [
            "Duplicatas: 0 linhas\n"
          ]
        }
      ]
    },
    {
      "cell_type": "markdown",
      "source": [
        "Temos 0 linhas duplicatas, entretanto se existissem utilizariamos os eguinte comando"
      ],
      "metadata": {
        "id": "SxWq35PVfgsI"
      }
    },
    {
      "cell_type": "code",
      "source": [
        "dataset = dataset.drop_duplicates()"
      ],
      "metadata": {
        "id": "yLizVRgkfn0V"
      },
      "execution_count": 27,
      "outputs": []
    },
    {
      "cell_type": "markdown",
      "source": [
        "### 2.1.3: inconsistências nos dados"
      ],
      "metadata": {
        "id": "fAglFaMofx75"
      }
    },
    {
      "cell_type": "markdown",
      "source": [
        "Verificar os valores das colunas"
      ],
      "metadata": {
        "id": "6XOzSv3lkOj_"
      }
    },
    {
      "cell_type": "code",
      "source": [
        "for col in dataset.select_dtypes(include=['object', 'category']).columns:\n",
        "    print(f\"\\nColuna: {col}\")\n",
        "    print(dataset[col].unique())"
      ],
      "metadata": {
        "id": "VoMAwVmckU3Y",
        "outputId": "4a8904f9-2a6b-4bc5-dfb1-a7a971653cd4",
        "colab": {
          "base_uri": "https://localhost:8080/"
        }
      },
      "execution_count": 28,
      "outputs": [
        {
          "output_type": "stream",
          "name": "stdout",
          "text": [
            "\n",
            "Coluna: student_id\n",
            "['S1000' 'S1001' 'S1002' 'S1003' 'S1004' 'S1005' 'S1006' 'S1007' 'S1008'\n",
            " 'S1009' 'S1011' 'S1012' 'S1013' 'S1014' 'S1015' 'S1016' 'S1017' 'S1018'\n",
            " 'S1019' 'S1020' 'S1021' 'S1022' 'S1023' 'S1024' 'S1025' 'S1026' 'S1027'\n",
            " 'S1028' 'S1029' 'S1030' 'S1031' 'S1032' 'S1034' 'S1035' 'S1036' 'S1037'\n",
            " 'S1038' 'S1039' 'S1040' 'S1041' 'S1042' 'S1043' 'S1044' 'S1045' 'S1046'\n",
            " 'S1048' 'S1049' 'S1050' 'S1051' 'S1052' 'S1053' 'S1054' 'S1055' 'S1056'\n",
            " 'S1057' 'S1058' 'S1059' 'S1060' 'S1061' 'S1062' 'S1063' 'S1064' 'S1065'\n",
            " 'S1066' 'S1067' 'S1068' 'S1069' 'S1070' 'S1071' 'S1072' 'S1073' 'S1075'\n",
            " 'S1076' 'S1077' 'S1078' 'S1079' 'S1080' 'S1081' 'S1082' 'S1083' 'S1084'\n",
            " 'S1085' 'S1086' 'S1087' 'S1088' 'S1089' 'S1090' 'S1091' 'S1092' 'S1094'\n",
            " 'S1095' 'S1096' 'S1097' 'S1098' 'S1099' 'S1101' 'S1103' 'S1104' 'S1105'\n",
            " 'S1106' 'S1108' 'S1109' 'S1110' 'S1111' 'S1112' 'S1113' 'S1114' 'S1118'\n",
            " 'S1119' 'S1120' 'S1121' 'S1122' 'S1123' 'S1124' 'S1125' 'S1126' 'S1127'\n",
            " 'S1128' 'S1129' 'S1130' 'S1131' 'S1132' 'S1133' 'S1134' 'S1135' 'S1136'\n",
            " 'S1137' 'S1138' 'S1139' 'S1140' 'S1141' 'S1142' 'S1144' 'S1146' 'S1147'\n",
            " 'S1148' 'S1150' 'S1151' 'S1152' 'S1154' 'S1155' 'S1156' 'S1157' 'S1158'\n",
            " 'S1159' 'S1160' 'S1161' 'S1162' 'S1163' 'S1164' 'S1165' 'S1166' 'S1167'\n",
            " 'S1168' 'S1169' 'S1170' 'S1171' 'S1172' 'S1173' 'S1174' 'S1175' 'S1176'\n",
            " 'S1177' 'S1179' 'S1181' 'S1182' 'S1183' 'S1184' 'S1185' 'S1186' 'S1187'\n",
            " 'S1188' 'S1189' 'S1190' 'S1191' 'S1192' 'S1193' 'S1194' 'S1195' 'S1196'\n",
            " 'S1197' 'S1198' 'S1199' 'S1200' 'S1201' 'S1203' 'S1204' 'S1205' 'S1206'\n",
            " 'S1207' 'S1208' 'S1209' 'S1210' 'S1211' 'S1212' 'S1213' 'S1215' 'S1216'\n",
            " 'S1217' 'S1218' 'S1219' 'S1220' 'S1221' 'S1222' 'S1223' 'S1224' 'S1225'\n",
            " 'S1226' 'S1227' 'S1228' 'S1229' 'S1230' 'S1231' 'S1232' 'S1233' 'S1234'\n",
            " 'S1235' 'S1236' 'S1237' 'S1238' 'S1239' 'S1240' 'S1241' 'S1242' 'S1243'\n",
            " 'S1244' 'S1245' 'S1246' 'S1247' 'S1248' 'S1249' 'S1250' 'S1251' 'S1252'\n",
            " 'S1253' 'S1254' 'S1255' 'S1256' 'S1257' 'S1258' 'S1259' 'S1260' 'S1262'\n",
            " 'S1263' 'S1264' 'S1265' 'S1266' 'S1267' 'S1268' 'S1269' 'S1270' 'S1271'\n",
            " 'S1272' 'S1273' 'S1274' 'S1275' 'S1276' 'S1278' 'S1279' 'S1280' 'S1281'\n",
            " 'S1283' 'S1284' 'S1286' 'S1287' 'S1288' 'S1289' 'S1291' 'S1292' 'S1293'\n",
            " 'S1294' 'S1295' 'S1296' 'S1297' 'S1298' 'S1299' 'S1300' 'S1301' 'S1302'\n",
            " 'S1304' 'S1305' 'S1306' 'S1308' 'S1309' 'S1310' 'S1311' 'S1312' 'S1313'\n",
            " 'S1314' 'S1315' 'S1316' 'S1317' 'S1318' 'S1319' 'S1321' 'S1322' 'S1323'\n",
            " 'S1324' 'S1325' 'S1326' 'S1327' 'S1328' 'S1329' 'S1330' 'S1332' 'S1333'\n",
            " 'S1335' 'S1336' 'S1337' 'S1338' 'S1339' 'S1340' 'S1341' 'S1342' 'S1343'\n",
            " 'S1344' 'S1345' 'S1346' 'S1347' 'S1348' 'S1349' 'S1350' 'S1351' 'S1352'\n",
            " 'S1353' 'S1354' 'S1355' 'S1356' 'S1357' 'S1358' 'S1359' 'S1360' 'S1361'\n",
            " 'S1362' 'S1363' 'S1364' 'S1366' 'S1367' 'S1368' 'S1369' 'S1370' 'S1371'\n",
            " 'S1372' 'S1373' 'S1374' 'S1375' 'S1377' 'S1378' 'S1379' 'S1380' 'S1381'\n",
            " 'S1382' 'S1383' 'S1384' 'S1385' 'S1386' 'S1387' 'S1388' 'S1389' 'S1390'\n",
            " 'S1392' 'S1393' 'S1394' 'S1395' 'S1396' 'S1397' 'S1398' 'S1399' 'S1400'\n",
            " 'S1402' 'S1404' 'S1405' 'S1406' 'S1407' 'S1408' 'S1409' 'S1410' 'S1411'\n",
            " 'S1412' 'S1413' 'S1414' 'S1416' 'S1417' 'S1419' 'S1420' 'S1422' 'S1423'\n",
            " 'S1424' 'S1425' 'S1426' 'S1427' 'S1428' 'S1429' 'S1430' 'S1431' 'S1432'\n",
            " 'S1433' 'S1434' 'S1435' 'S1436' 'S1438' 'S1439' 'S1440' 'S1441' 'S1443'\n",
            " 'S1444' 'S1445' 'S1446' 'S1447' 'S1448' 'S1449' 'S1450' 'S1451' 'S1452'\n",
            " 'S1453' 'S1454' 'S1455' 'S1456' 'S1457' 'S1458' 'S1459' 'S1460' 'S1461'\n",
            " 'S1462' 'S1463' 'S1464' 'S1466' 'S1467' 'S1468' 'S1469' 'S1470' 'S1471'\n",
            " 'S1472' 'S1473' 'S1474' 'S1475' 'S1476' 'S1477' 'S1478' 'S1479' 'S1481'\n",
            " 'S1483' 'S1484' 'S1485' 'S1487' 'S1488' 'S1489' 'S1490' 'S1491' 'S1492'\n",
            " 'S1493' 'S1494' 'S1495' 'S1496' 'S1498' 'S1499' 'S1500' 'S1501' 'S1503'\n",
            " 'S1504' 'S1506' 'S1508' 'S1509' 'S1510' 'S1511' 'S1513' 'S1514' 'S1515'\n",
            " 'S1516' 'S1517' 'S1518' 'S1519' 'S1520' 'S1521' 'S1522' 'S1523' 'S1524'\n",
            " 'S1525' 'S1527' 'S1528' 'S1529' 'S1530' 'S1532' 'S1533' 'S1534' 'S1535'\n",
            " 'S1536' 'S1537' 'S1538' 'S1540' 'S1541' 'S1542' 'S1543' 'S1544' 'S1545'\n",
            " 'S1546' 'S1547' 'S1548' 'S1549' 'S1550' 'S1551' 'S1552' 'S1553' 'S1556'\n",
            " 'S1557' 'S1558' 'S1559' 'S1560' 'S1561' 'S1563' 'S1564' 'S1565' 'S1566'\n",
            " 'S1567' 'S1568' 'S1570' 'S1571' 'S1572' 'S1573' 'S1574' 'S1575' 'S1576'\n",
            " 'S1577' 'S1578' 'S1579' 'S1580' 'S1581' 'S1582' 'S1583' 'S1584' 'S1585'\n",
            " 'S1586' 'S1587' 'S1588' 'S1589' 'S1590' 'S1591' 'S1592' 'S1593' 'S1594'\n",
            " 'S1595' 'S1596' 'S1597' 'S1598' 'S1599' 'S1600' 'S1601' 'S1604' 'S1605'\n",
            " 'S1606' 'S1607' 'S1608' 'S1609' 'S1610' 'S1611' 'S1612' 'S1613' 'S1614'\n",
            " 'S1615' 'S1616' 'S1617' 'S1618' 'S1619' 'S1621' 'S1622' 'S1623' 'S1624'\n",
            " 'S1625' 'S1626' 'S1627' 'S1628' 'S1629' 'S1630' 'S1631' 'S1632' 'S1633'\n",
            " 'S1634' 'S1635' 'S1636' 'S1638' 'S1639' 'S1640' 'S1641' 'S1642' 'S1643'\n",
            " 'S1644' 'S1646' 'S1648' 'S1649' 'S1650' 'S1651' 'S1652' 'S1653' 'S1654'\n",
            " 'S1655' 'S1656' 'S1657' 'S1658' 'S1659' 'S1660' 'S1661' 'S1663' 'S1664'\n",
            " 'S1665' 'S1667' 'S1668' 'S1669' 'S1670' 'S1671' 'S1672' 'S1673' 'S1674'\n",
            " 'S1675' 'S1676' 'S1678' 'S1679' 'S1683' 'S1684' 'S1685' 'S1686' 'S1687'\n",
            " 'S1688' 'S1690' 'S1691' 'S1692' 'S1693' 'S1694' 'S1695' 'S1696' 'S1697'\n",
            " 'S1698' 'S1699' 'S1700' 'S1701' 'S1702' 'S1703' 'S1704' 'S1705' 'S1706'\n",
            " 'S1707' 'S1709' 'S1710' 'S1711' 'S1712' 'S1713' 'S1714' 'S1715' 'S1716'\n",
            " 'S1717' 'S1718' 'S1719' 'S1720' 'S1721' 'S1722' 'S1723' 'S1724' 'S1725'\n",
            " 'S1726' 'S1727' 'S1729' 'S1730' 'S1731' 'S1732' 'S1733' 'S1734' 'S1735'\n",
            " 'S1736' 'S1737' 'S1738' 'S1739' 'S1741' 'S1742' 'S1743' 'S1744' 'S1745'\n",
            " 'S1746' 'S1747' 'S1748' 'S1749' 'S1750' 'S1751' 'S1752' 'S1753' 'S1754'\n",
            " 'S1755' 'S1756' 'S1757' 'S1758' 'S1759' 'S1761' 'S1762' 'S1763' 'S1764'\n",
            " 'S1765' 'S1767' 'S1768' 'S1769' 'S1770' 'S1771' 'S1772' 'S1773' 'S1774'\n",
            " 'S1775' 'S1776' 'S1777' 'S1778' 'S1779' 'S1780' 'S1781' 'S1783' 'S1784'\n",
            " 'S1786' 'S1787' 'S1788' 'S1789' 'S1790' 'S1791' 'S1792' 'S1793' 'S1794'\n",
            " 'S1796' 'S1797' 'S1798' 'S1799' 'S1800' 'S1801' 'S1803' 'S1804' 'S1805'\n",
            " 'S1806' 'S1807' 'S1808' 'S1809' 'S1810' 'S1811' 'S1812' 'S1813' 'S1814'\n",
            " 'S1815' 'S1816' 'S1817' 'S1818' 'S1819' 'S1820' 'S1821' 'S1822' 'S1823'\n",
            " 'S1825' 'S1826' 'S1827' 'S1828' 'S1830' 'S1831' 'S1832' 'S1833' 'S1834'\n",
            " 'S1835' 'S1837' 'S1838' 'S1839' 'S1840' 'S1841' 'S1842' 'S1843' 'S1844'\n",
            " 'S1845' 'S1846' 'S1847' 'S1848' 'S1849' 'S1850' 'S1851' 'S1852' 'S1853'\n",
            " 'S1854' 'S1855' 'S1856' 'S1857' 'S1858' 'S1859' 'S1860' 'S1861' 'S1862'\n",
            " 'S1863' 'S1864' 'S1865' 'S1866' 'S1867' 'S1868' 'S1869' 'S1870' 'S1871'\n",
            " 'S1873' 'S1874' 'S1875' 'S1876' 'S1877' 'S1878' 'S1879' 'S1880' 'S1881'\n",
            " 'S1882' 'S1883' 'S1884' 'S1885' 'S1886' 'S1888' 'S1889' 'S1890' 'S1891'\n",
            " 'S1892' 'S1893' 'S1894' 'S1895' 'S1896' 'S1897' 'S1898' 'S1900' 'S1901'\n",
            " 'S1902' 'S1903' 'S1904' 'S1905' 'S1906' 'S1907' 'S1908' 'S1909' 'S1912'\n",
            " 'S1913' 'S1914' 'S1915' 'S1916' 'S1917' 'S1918' 'S1919' 'S1922' 'S1923'\n",
            " 'S1924' 'S1926' 'S1927' 'S1928' 'S1929' 'S1930' 'S1931' 'S1932' 'S1933'\n",
            " 'S1934' 'S1935' 'S1936' 'S1937' 'S1938' 'S1940' 'S1941' 'S1942' 'S1943'\n",
            " 'S1944' 'S1946' 'S1947' 'S1948' 'S1949' 'S1950' 'S1951' 'S1952' 'S1953'\n",
            " 'S1954' 'S1955' 'S1956' 'S1957' 'S1958' 'S1959' 'S1960' 'S1961' 'S1962'\n",
            " 'S1963' 'S1964' 'S1965' 'S1966' 'S1968' 'S1969' 'S1970' 'S1971' 'S1972'\n",
            " 'S1973' 'S1974' 'S1975' 'S1976' 'S1977' 'S1978' 'S1979' 'S1980' 'S1981'\n",
            " 'S1982' 'S1983' 'S1984' 'S1985' 'S1986' 'S1987' 'S1988' 'S1989' 'S1990'\n",
            " 'S1991' 'S1992' 'S1993' 'S1994' 'S1995' 'S1996' 'S1997' 'S1998' 'S1999']\n",
            "\n",
            "Coluna: gender\n",
            "['Female' 'Male' 'Other']\n",
            "\n",
            "Coluna: part_time_job\n",
            "['No' 'Yes']\n",
            "\n",
            "Coluna: diet_quality\n",
            "['Fair' 'Good' 'Poor']\n",
            "\n",
            "Coluna: parental_education_level\n",
            "['Master' 'High School' 'Bachelor']\n",
            "\n",
            "Coluna: internet_quality\n",
            "['Average' 'Poor' 'Good']\n",
            "\n",
            "Coluna: extracurricular_participation\n",
            "['Yes' 'No']\n"
          ]
        }
      ]
    },
    {
      "cell_type": "markdown",
      "source": [
        "Nas colunas categóricas, foram observadas possíveis inconsistências de capitalização (maiúsculas/minúsculas), como:\n",
        "\n",
        "Gender: valores como \"male\" e \"Male\"\n",
        "\n",
        "Exercise: \"yes\", \"Yes\", \"No\", \"no\"\n",
        "etc."
      ],
      "metadata": {
        "id": "enhwYkOPf8gm"
      }
    },
    {
      "cell_type": "markdown",
      "source": [
        "Vamos verificar o nome das colunas\n"
      ],
      "metadata": {
        "id": "0eXvu33phOqU"
      }
    },
    {
      "cell_type": "code",
      "source": [
        "print(dataset.columns.tolist())"
      ],
      "metadata": {
        "id": "WBp0jk35hSPn",
        "outputId": "303c46f1-80a8-4c95-e246-0d9c1b58b9b1",
        "colab": {
          "base_uri": "https://localhost:8080/"
        }
      },
      "execution_count": 29,
      "outputs": [
        {
          "output_type": "stream",
          "name": "stdout",
          "text": [
            "['student_id', 'age', 'gender', 'study_hours_per_day', 'social_media_hours', 'netflix_hours', 'part_time_job', 'attendance_percentage', 'sleep_hours', 'diet_quality', 'exercise_frequency', 'parental_education_level', 'internet_quality', 'mental_health_rating', 'extracurricular_participation', 'exam_score']\n"
          ]
        }
      ]
    },
    {
      "cell_type": "markdown",
      "source": [
        "Corrigir nomes de colunas: remover espaços extras, o que não tem, mas caso tenha, é um passo importante"
      ],
      "metadata": {
        "id": "b3BmJcAGhyCw"
      }
    },
    {
      "cell_type": "code",
      "source": [
        "dataset.columns = dataset.columns.str.strip()"
      ],
      "metadata": {
        "id": "f4a_e47Uh1Tq"
      },
      "execution_count": 30,
      "outputs": []
    },
    {
      "cell_type": "markdown",
      "source": [
        "Lista de colunas a serem corrigidas"
      ],
      "metadata": {
        "id": "nvbOcht1h1nf"
      }
    },
    {
      "cell_type": "code",
      "source": [
        "categorical_columns = [\n",
        "    'gender',\n",
        "    'diet_quality',\n",
        "    'exercise_frequency',\n",
        "    'parental_education_level',\n",
        "    'extracurricular_participation'\n",
        "]"
      ],
      "metadata": {
        "id": "XVUks7MViEBx"
      },
      "execution_count": 31,
      "outputs": []
    },
    {
      "cell_type": "markdown",
      "source": [
        "Identificar automaticamente colunas categóricas (do tipo object ou category)"
      ],
      "metadata": {
        "id": "PWumS5jZily1"
      }
    },
    {
      "cell_type": "code",
      "source": [
        "categorical_columns = dataset.select_dtypes(include=['object', 'category']).columns"
      ],
      "metadata": {
        "id": "0C44dO2IinxB"
      },
      "execution_count": 32,
      "outputs": []
    },
    {
      "cell_type": "markdown",
      "source": [
        "Padronizar os valores: capitalização e remoção de espaços extras nos dados"
      ],
      "metadata": {
        "id": "DJe1BHi3h1mO"
      }
    },
    {
      "cell_type": "code",
      "source": [
        "for col in categorical_columns:\n",
        "    dataset.loc[:, col] = dataset[col].astype(str).str.strip().str.capitalize()"
      ],
      "metadata": {
        "id": "NS7IoYdMf0oI"
      },
      "execution_count": 33,
      "outputs": []
    },
    {
      "cell_type": "markdown",
      "source": [
        "Verificar se ainda existem valores unicos/repetidos que podem indicar inconsistencias\n"
      ],
      "metadata": {
        "id": "pPVVTsG7jSIp"
      }
    },
    {
      "cell_type": "code",
      "source": [
        "for col in dataset.select_dtypes(include=['object', 'category']).columns:\n",
        "    print(f\"\\nColuna: {col}\")\n",
        "    print(dataset[col].unique())"
      ],
      "metadata": {
        "id": "yZ38HY8tjXQR",
        "outputId": "0b541169-3a4e-41fa-e4ee-e3835a4fd751",
        "colab": {
          "base_uri": "https://localhost:8080/"
        }
      },
      "execution_count": 34,
      "outputs": [
        {
          "output_type": "stream",
          "name": "stdout",
          "text": [
            "\n",
            "Coluna: student_id\n",
            "['S1000' 'S1001' 'S1002' 'S1003' 'S1004' 'S1005' 'S1006' 'S1007' 'S1008'\n",
            " 'S1009' 'S1011' 'S1012' 'S1013' 'S1014' 'S1015' 'S1016' 'S1017' 'S1018'\n",
            " 'S1019' 'S1020' 'S1021' 'S1022' 'S1023' 'S1024' 'S1025' 'S1026' 'S1027'\n",
            " 'S1028' 'S1029' 'S1030' 'S1031' 'S1032' 'S1034' 'S1035' 'S1036' 'S1037'\n",
            " 'S1038' 'S1039' 'S1040' 'S1041' 'S1042' 'S1043' 'S1044' 'S1045' 'S1046'\n",
            " 'S1048' 'S1049' 'S1050' 'S1051' 'S1052' 'S1053' 'S1054' 'S1055' 'S1056'\n",
            " 'S1057' 'S1058' 'S1059' 'S1060' 'S1061' 'S1062' 'S1063' 'S1064' 'S1065'\n",
            " 'S1066' 'S1067' 'S1068' 'S1069' 'S1070' 'S1071' 'S1072' 'S1073' 'S1075'\n",
            " 'S1076' 'S1077' 'S1078' 'S1079' 'S1080' 'S1081' 'S1082' 'S1083' 'S1084'\n",
            " 'S1085' 'S1086' 'S1087' 'S1088' 'S1089' 'S1090' 'S1091' 'S1092' 'S1094'\n",
            " 'S1095' 'S1096' 'S1097' 'S1098' 'S1099' 'S1101' 'S1103' 'S1104' 'S1105'\n",
            " 'S1106' 'S1108' 'S1109' 'S1110' 'S1111' 'S1112' 'S1113' 'S1114' 'S1118'\n",
            " 'S1119' 'S1120' 'S1121' 'S1122' 'S1123' 'S1124' 'S1125' 'S1126' 'S1127'\n",
            " 'S1128' 'S1129' 'S1130' 'S1131' 'S1132' 'S1133' 'S1134' 'S1135' 'S1136'\n",
            " 'S1137' 'S1138' 'S1139' 'S1140' 'S1141' 'S1142' 'S1144' 'S1146' 'S1147'\n",
            " 'S1148' 'S1150' 'S1151' 'S1152' 'S1154' 'S1155' 'S1156' 'S1157' 'S1158'\n",
            " 'S1159' 'S1160' 'S1161' 'S1162' 'S1163' 'S1164' 'S1165' 'S1166' 'S1167'\n",
            " 'S1168' 'S1169' 'S1170' 'S1171' 'S1172' 'S1173' 'S1174' 'S1175' 'S1176'\n",
            " 'S1177' 'S1179' 'S1181' 'S1182' 'S1183' 'S1184' 'S1185' 'S1186' 'S1187'\n",
            " 'S1188' 'S1189' 'S1190' 'S1191' 'S1192' 'S1193' 'S1194' 'S1195' 'S1196'\n",
            " 'S1197' 'S1198' 'S1199' 'S1200' 'S1201' 'S1203' 'S1204' 'S1205' 'S1206'\n",
            " 'S1207' 'S1208' 'S1209' 'S1210' 'S1211' 'S1212' 'S1213' 'S1215' 'S1216'\n",
            " 'S1217' 'S1218' 'S1219' 'S1220' 'S1221' 'S1222' 'S1223' 'S1224' 'S1225'\n",
            " 'S1226' 'S1227' 'S1228' 'S1229' 'S1230' 'S1231' 'S1232' 'S1233' 'S1234'\n",
            " 'S1235' 'S1236' 'S1237' 'S1238' 'S1239' 'S1240' 'S1241' 'S1242' 'S1243'\n",
            " 'S1244' 'S1245' 'S1246' 'S1247' 'S1248' 'S1249' 'S1250' 'S1251' 'S1252'\n",
            " 'S1253' 'S1254' 'S1255' 'S1256' 'S1257' 'S1258' 'S1259' 'S1260' 'S1262'\n",
            " 'S1263' 'S1264' 'S1265' 'S1266' 'S1267' 'S1268' 'S1269' 'S1270' 'S1271'\n",
            " 'S1272' 'S1273' 'S1274' 'S1275' 'S1276' 'S1278' 'S1279' 'S1280' 'S1281'\n",
            " 'S1283' 'S1284' 'S1286' 'S1287' 'S1288' 'S1289' 'S1291' 'S1292' 'S1293'\n",
            " 'S1294' 'S1295' 'S1296' 'S1297' 'S1298' 'S1299' 'S1300' 'S1301' 'S1302'\n",
            " 'S1304' 'S1305' 'S1306' 'S1308' 'S1309' 'S1310' 'S1311' 'S1312' 'S1313'\n",
            " 'S1314' 'S1315' 'S1316' 'S1317' 'S1318' 'S1319' 'S1321' 'S1322' 'S1323'\n",
            " 'S1324' 'S1325' 'S1326' 'S1327' 'S1328' 'S1329' 'S1330' 'S1332' 'S1333'\n",
            " 'S1335' 'S1336' 'S1337' 'S1338' 'S1339' 'S1340' 'S1341' 'S1342' 'S1343'\n",
            " 'S1344' 'S1345' 'S1346' 'S1347' 'S1348' 'S1349' 'S1350' 'S1351' 'S1352'\n",
            " 'S1353' 'S1354' 'S1355' 'S1356' 'S1357' 'S1358' 'S1359' 'S1360' 'S1361'\n",
            " 'S1362' 'S1363' 'S1364' 'S1366' 'S1367' 'S1368' 'S1369' 'S1370' 'S1371'\n",
            " 'S1372' 'S1373' 'S1374' 'S1375' 'S1377' 'S1378' 'S1379' 'S1380' 'S1381'\n",
            " 'S1382' 'S1383' 'S1384' 'S1385' 'S1386' 'S1387' 'S1388' 'S1389' 'S1390'\n",
            " 'S1392' 'S1393' 'S1394' 'S1395' 'S1396' 'S1397' 'S1398' 'S1399' 'S1400'\n",
            " 'S1402' 'S1404' 'S1405' 'S1406' 'S1407' 'S1408' 'S1409' 'S1410' 'S1411'\n",
            " 'S1412' 'S1413' 'S1414' 'S1416' 'S1417' 'S1419' 'S1420' 'S1422' 'S1423'\n",
            " 'S1424' 'S1425' 'S1426' 'S1427' 'S1428' 'S1429' 'S1430' 'S1431' 'S1432'\n",
            " 'S1433' 'S1434' 'S1435' 'S1436' 'S1438' 'S1439' 'S1440' 'S1441' 'S1443'\n",
            " 'S1444' 'S1445' 'S1446' 'S1447' 'S1448' 'S1449' 'S1450' 'S1451' 'S1452'\n",
            " 'S1453' 'S1454' 'S1455' 'S1456' 'S1457' 'S1458' 'S1459' 'S1460' 'S1461'\n",
            " 'S1462' 'S1463' 'S1464' 'S1466' 'S1467' 'S1468' 'S1469' 'S1470' 'S1471'\n",
            " 'S1472' 'S1473' 'S1474' 'S1475' 'S1476' 'S1477' 'S1478' 'S1479' 'S1481'\n",
            " 'S1483' 'S1484' 'S1485' 'S1487' 'S1488' 'S1489' 'S1490' 'S1491' 'S1492'\n",
            " 'S1493' 'S1494' 'S1495' 'S1496' 'S1498' 'S1499' 'S1500' 'S1501' 'S1503'\n",
            " 'S1504' 'S1506' 'S1508' 'S1509' 'S1510' 'S1511' 'S1513' 'S1514' 'S1515'\n",
            " 'S1516' 'S1517' 'S1518' 'S1519' 'S1520' 'S1521' 'S1522' 'S1523' 'S1524'\n",
            " 'S1525' 'S1527' 'S1528' 'S1529' 'S1530' 'S1532' 'S1533' 'S1534' 'S1535'\n",
            " 'S1536' 'S1537' 'S1538' 'S1540' 'S1541' 'S1542' 'S1543' 'S1544' 'S1545'\n",
            " 'S1546' 'S1547' 'S1548' 'S1549' 'S1550' 'S1551' 'S1552' 'S1553' 'S1556'\n",
            " 'S1557' 'S1558' 'S1559' 'S1560' 'S1561' 'S1563' 'S1564' 'S1565' 'S1566'\n",
            " 'S1567' 'S1568' 'S1570' 'S1571' 'S1572' 'S1573' 'S1574' 'S1575' 'S1576'\n",
            " 'S1577' 'S1578' 'S1579' 'S1580' 'S1581' 'S1582' 'S1583' 'S1584' 'S1585'\n",
            " 'S1586' 'S1587' 'S1588' 'S1589' 'S1590' 'S1591' 'S1592' 'S1593' 'S1594'\n",
            " 'S1595' 'S1596' 'S1597' 'S1598' 'S1599' 'S1600' 'S1601' 'S1604' 'S1605'\n",
            " 'S1606' 'S1607' 'S1608' 'S1609' 'S1610' 'S1611' 'S1612' 'S1613' 'S1614'\n",
            " 'S1615' 'S1616' 'S1617' 'S1618' 'S1619' 'S1621' 'S1622' 'S1623' 'S1624'\n",
            " 'S1625' 'S1626' 'S1627' 'S1628' 'S1629' 'S1630' 'S1631' 'S1632' 'S1633'\n",
            " 'S1634' 'S1635' 'S1636' 'S1638' 'S1639' 'S1640' 'S1641' 'S1642' 'S1643'\n",
            " 'S1644' 'S1646' 'S1648' 'S1649' 'S1650' 'S1651' 'S1652' 'S1653' 'S1654'\n",
            " 'S1655' 'S1656' 'S1657' 'S1658' 'S1659' 'S1660' 'S1661' 'S1663' 'S1664'\n",
            " 'S1665' 'S1667' 'S1668' 'S1669' 'S1670' 'S1671' 'S1672' 'S1673' 'S1674'\n",
            " 'S1675' 'S1676' 'S1678' 'S1679' 'S1683' 'S1684' 'S1685' 'S1686' 'S1687'\n",
            " 'S1688' 'S1690' 'S1691' 'S1692' 'S1693' 'S1694' 'S1695' 'S1696' 'S1697'\n",
            " 'S1698' 'S1699' 'S1700' 'S1701' 'S1702' 'S1703' 'S1704' 'S1705' 'S1706'\n",
            " 'S1707' 'S1709' 'S1710' 'S1711' 'S1712' 'S1713' 'S1714' 'S1715' 'S1716'\n",
            " 'S1717' 'S1718' 'S1719' 'S1720' 'S1721' 'S1722' 'S1723' 'S1724' 'S1725'\n",
            " 'S1726' 'S1727' 'S1729' 'S1730' 'S1731' 'S1732' 'S1733' 'S1734' 'S1735'\n",
            " 'S1736' 'S1737' 'S1738' 'S1739' 'S1741' 'S1742' 'S1743' 'S1744' 'S1745'\n",
            " 'S1746' 'S1747' 'S1748' 'S1749' 'S1750' 'S1751' 'S1752' 'S1753' 'S1754'\n",
            " 'S1755' 'S1756' 'S1757' 'S1758' 'S1759' 'S1761' 'S1762' 'S1763' 'S1764'\n",
            " 'S1765' 'S1767' 'S1768' 'S1769' 'S1770' 'S1771' 'S1772' 'S1773' 'S1774'\n",
            " 'S1775' 'S1776' 'S1777' 'S1778' 'S1779' 'S1780' 'S1781' 'S1783' 'S1784'\n",
            " 'S1786' 'S1787' 'S1788' 'S1789' 'S1790' 'S1791' 'S1792' 'S1793' 'S1794'\n",
            " 'S1796' 'S1797' 'S1798' 'S1799' 'S1800' 'S1801' 'S1803' 'S1804' 'S1805'\n",
            " 'S1806' 'S1807' 'S1808' 'S1809' 'S1810' 'S1811' 'S1812' 'S1813' 'S1814'\n",
            " 'S1815' 'S1816' 'S1817' 'S1818' 'S1819' 'S1820' 'S1821' 'S1822' 'S1823'\n",
            " 'S1825' 'S1826' 'S1827' 'S1828' 'S1830' 'S1831' 'S1832' 'S1833' 'S1834'\n",
            " 'S1835' 'S1837' 'S1838' 'S1839' 'S1840' 'S1841' 'S1842' 'S1843' 'S1844'\n",
            " 'S1845' 'S1846' 'S1847' 'S1848' 'S1849' 'S1850' 'S1851' 'S1852' 'S1853'\n",
            " 'S1854' 'S1855' 'S1856' 'S1857' 'S1858' 'S1859' 'S1860' 'S1861' 'S1862'\n",
            " 'S1863' 'S1864' 'S1865' 'S1866' 'S1867' 'S1868' 'S1869' 'S1870' 'S1871'\n",
            " 'S1873' 'S1874' 'S1875' 'S1876' 'S1877' 'S1878' 'S1879' 'S1880' 'S1881'\n",
            " 'S1882' 'S1883' 'S1884' 'S1885' 'S1886' 'S1888' 'S1889' 'S1890' 'S1891'\n",
            " 'S1892' 'S1893' 'S1894' 'S1895' 'S1896' 'S1897' 'S1898' 'S1900' 'S1901'\n",
            " 'S1902' 'S1903' 'S1904' 'S1905' 'S1906' 'S1907' 'S1908' 'S1909' 'S1912'\n",
            " 'S1913' 'S1914' 'S1915' 'S1916' 'S1917' 'S1918' 'S1919' 'S1922' 'S1923'\n",
            " 'S1924' 'S1926' 'S1927' 'S1928' 'S1929' 'S1930' 'S1931' 'S1932' 'S1933'\n",
            " 'S1934' 'S1935' 'S1936' 'S1937' 'S1938' 'S1940' 'S1941' 'S1942' 'S1943'\n",
            " 'S1944' 'S1946' 'S1947' 'S1948' 'S1949' 'S1950' 'S1951' 'S1952' 'S1953'\n",
            " 'S1954' 'S1955' 'S1956' 'S1957' 'S1958' 'S1959' 'S1960' 'S1961' 'S1962'\n",
            " 'S1963' 'S1964' 'S1965' 'S1966' 'S1968' 'S1969' 'S1970' 'S1971' 'S1972'\n",
            " 'S1973' 'S1974' 'S1975' 'S1976' 'S1977' 'S1978' 'S1979' 'S1980' 'S1981'\n",
            " 'S1982' 'S1983' 'S1984' 'S1985' 'S1986' 'S1987' 'S1988' 'S1989' 'S1990'\n",
            " 'S1991' 'S1992' 'S1993' 'S1994' 'S1995' 'S1996' 'S1997' 'S1998' 'S1999']\n",
            "\n",
            "Coluna: gender\n",
            "['Female' 'Male' 'Other']\n",
            "\n",
            "Coluna: part_time_job\n",
            "['No' 'Yes']\n",
            "\n",
            "Coluna: diet_quality\n",
            "['Fair' 'Good' 'Poor']\n",
            "\n",
            "Coluna: parental_education_level\n",
            "['Master' 'High school' 'Bachelor']\n",
            "\n",
            "Coluna: internet_quality\n",
            "['Average' 'Poor' 'Good']\n",
            "\n",
            "Coluna: extracurricular_participation\n",
            "['Yes' 'No']\n"
          ]
        }
      ]
    },
    {
      "cell_type": "markdown",
      "source": [
        "##2.2: Estatísticas Descritivas"
      ],
      "metadata": {
        "id": "V7qyAoC94cJf"
      }
    },
    {
      "cell_type": "markdown",
      "source": [
        "### 2.2.1: Descrevendo dataset"
      ],
      "metadata": {
        "id": "3Gvr-Ki7xMgE"
      }
    },
    {
      "cell_type": "markdown",
      "source": [
        "É possivel observar a quantidade, a media, desvio padrão, valor minimo, quartis e valor maximo de cada coluna\n"
      ],
      "metadata": {
        "id": "9oxZyLZVzpBj"
      }
    },
    {
      "cell_type": "code",
      "source": [
        "dataset.describe()"
      ],
      "metadata": {
        "id": "Q_1t_wa04ktO",
        "outputId": "13ceb402-974d-4886-df1d-cf2fd0744ff8",
        "colab": {
          "base_uri": "https://localhost:8080/",
          "height": 320
        }
      },
      "execution_count": 35,
      "outputs": [
        {
          "output_type": "execute_result",
          "data": {
            "text/plain": [
              "              age  study_hours_per_day  social_media_hours  netflix_hours  \\\n",
              "count  909.000000           909.000000          909.000000     909.000000   \n",
              "mean    20.475248             3.538724            2.504620       1.830363   \n",
              "std      2.302721             1.469730            1.164802       1.071251   \n",
              "min     17.000000             0.000000            0.000000       0.000000   \n",
              "25%     18.000000             2.500000            1.700000       1.000000   \n",
              "50%     20.000000             3.500000            2.500000       1.800000   \n",
              "75%     22.000000             4.500000            3.300000       2.600000   \n",
              "max     24.000000             8.300000            7.200000       5.400000   \n",
              "\n",
              "       attendance_percentage  sleep_hours  exercise_frequency  \\\n",
              "count             909.000000   909.000000          909.000000   \n",
              "mean               83.880308     6.474037            3.051705   \n",
              "std                 9.453622     1.218943            2.035632   \n",
              "min                56.000000     3.200000            0.000000   \n",
              "25%                77.500000     5.600000            1.000000   \n",
              "50%                84.200000     6.500000            3.000000   \n",
              "75%                90.700000     7.300000            5.000000   \n",
              "max               100.000000    10.000000            6.000000   \n",
              "\n",
              "       mental_health_rating  exam_score  \n",
              "count            909.000000  909.000000  \n",
              "mean               5.466447   69.558196  \n",
              "std                2.857525   16.929436  \n",
              "min                1.000000   18.400000  \n",
              "25%                3.000000   58.400000  \n",
              "50%                5.000000   70.400000  \n",
              "75%                8.000000   81.300000  \n",
              "max               10.000000  100.000000  "
            ],
            "text/html": [
              "\n",
              "  <div id=\"df-b6af9b00-4278-4151-a42c-4915ca31e01a\" class=\"colab-df-container\">\n",
              "    <div>\n",
              "<style scoped>\n",
              "    .dataframe tbody tr th:only-of-type {\n",
              "        vertical-align: middle;\n",
              "    }\n",
              "\n",
              "    .dataframe tbody tr th {\n",
              "        vertical-align: top;\n",
              "    }\n",
              "\n",
              "    .dataframe thead th {\n",
              "        text-align: right;\n",
              "    }\n",
              "</style>\n",
              "<table border=\"1\" class=\"dataframe\">\n",
              "  <thead>\n",
              "    <tr style=\"text-align: right;\">\n",
              "      <th></th>\n",
              "      <th>age</th>\n",
              "      <th>study_hours_per_day</th>\n",
              "      <th>social_media_hours</th>\n",
              "      <th>netflix_hours</th>\n",
              "      <th>attendance_percentage</th>\n",
              "      <th>sleep_hours</th>\n",
              "      <th>exercise_frequency</th>\n",
              "      <th>mental_health_rating</th>\n",
              "      <th>exam_score</th>\n",
              "    </tr>\n",
              "  </thead>\n",
              "  <tbody>\n",
              "    <tr>\n",
              "      <th>count</th>\n",
              "      <td>909.000000</td>\n",
              "      <td>909.000000</td>\n",
              "      <td>909.000000</td>\n",
              "      <td>909.000000</td>\n",
              "      <td>909.000000</td>\n",
              "      <td>909.000000</td>\n",
              "      <td>909.000000</td>\n",
              "      <td>909.000000</td>\n",
              "      <td>909.000000</td>\n",
              "    </tr>\n",
              "    <tr>\n",
              "      <th>mean</th>\n",
              "      <td>20.475248</td>\n",
              "      <td>3.538724</td>\n",
              "      <td>2.504620</td>\n",
              "      <td>1.830363</td>\n",
              "      <td>83.880308</td>\n",
              "      <td>6.474037</td>\n",
              "      <td>3.051705</td>\n",
              "      <td>5.466447</td>\n",
              "      <td>69.558196</td>\n",
              "    </tr>\n",
              "    <tr>\n",
              "      <th>std</th>\n",
              "      <td>2.302721</td>\n",
              "      <td>1.469730</td>\n",
              "      <td>1.164802</td>\n",
              "      <td>1.071251</td>\n",
              "      <td>9.453622</td>\n",
              "      <td>1.218943</td>\n",
              "      <td>2.035632</td>\n",
              "      <td>2.857525</td>\n",
              "      <td>16.929436</td>\n",
              "    </tr>\n",
              "    <tr>\n",
              "      <th>min</th>\n",
              "      <td>17.000000</td>\n",
              "      <td>0.000000</td>\n",
              "      <td>0.000000</td>\n",
              "      <td>0.000000</td>\n",
              "      <td>56.000000</td>\n",
              "      <td>3.200000</td>\n",
              "      <td>0.000000</td>\n",
              "      <td>1.000000</td>\n",
              "      <td>18.400000</td>\n",
              "    </tr>\n",
              "    <tr>\n",
              "      <th>25%</th>\n",
              "      <td>18.000000</td>\n",
              "      <td>2.500000</td>\n",
              "      <td>1.700000</td>\n",
              "      <td>1.000000</td>\n",
              "      <td>77.500000</td>\n",
              "      <td>5.600000</td>\n",
              "      <td>1.000000</td>\n",
              "      <td>3.000000</td>\n",
              "      <td>58.400000</td>\n",
              "    </tr>\n",
              "    <tr>\n",
              "      <th>50%</th>\n",
              "      <td>20.000000</td>\n",
              "      <td>3.500000</td>\n",
              "      <td>2.500000</td>\n",
              "      <td>1.800000</td>\n",
              "      <td>84.200000</td>\n",
              "      <td>6.500000</td>\n",
              "      <td>3.000000</td>\n",
              "      <td>5.000000</td>\n",
              "      <td>70.400000</td>\n",
              "    </tr>\n",
              "    <tr>\n",
              "      <th>75%</th>\n",
              "      <td>22.000000</td>\n",
              "      <td>4.500000</td>\n",
              "      <td>3.300000</td>\n",
              "      <td>2.600000</td>\n",
              "      <td>90.700000</td>\n",
              "      <td>7.300000</td>\n",
              "      <td>5.000000</td>\n",
              "      <td>8.000000</td>\n",
              "      <td>81.300000</td>\n",
              "    </tr>\n",
              "    <tr>\n",
              "      <th>max</th>\n",
              "      <td>24.000000</td>\n",
              "      <td>8.300000</td>\n",
              "      <td>7.200000</td>\n",
              "      <td>5.400000</td>\n",
              "      <td>100.000000</td>\n",
              "      <td>10.000000</td>\n",
              "      <td>6.000000</td>\n",
              "      <td>10.000000</td>\n",
              "      <td>100.000000</td>\n",
              "    </tr>\n",
              "  </tbody>\n",
              "</table>\n",
              "</div>\n",
              "    <div class=\"colab-df-buttons\">\n",
              "\n",
              "  <div class=\"colab-df-container\">\n",
              "    <button class=\"colab-df-convert\" onclick=\"convertToInteractive('df-b6af9b00-4278-4151-a42c-4915ca31e01a')\"\n",
              "            title=\"Convert this dataframe to an interactive table.\"\n",
              "            style=\"display:none;\">\n",
              "\n",
              "  <svg xmlns=\"http://www.w3.org/2000/svg\" height=\"24px\" viewBox=\"0 -960 960 960\">\n",
              "    <path d=\"M120-120v-720h720v720H120Zm60-500h600v-160H180v160Zm220 220h160v-160H400v160Zm0 220h160v-160H400v160ZM180-400h160v-160H180v160Zm440 0h160v-160H620v160ZM180-180h160v-160H180v160Zm440 0h160v-160H620v160Z\"/>\n",
              "  </svg>\n",
              "    </button>\n",
              "\n",
              "  <style>\n",
              "    .colab-df-container {\n",
              "      display:flex;\n",
              "      gap: 12px;\n",
              "    }\n",
              "\n",
              "    .colab-df-convert {\n",
              "      background-color: #E8F0FE;\n",
              "      border: none;\n",
              "      border-radius: 50%;\n",
              "      cursor: pointer;\n",
              "      display: none;\n",
              "      fill: #1967D2;\n",
              "      height: 32px;\n",
              "      padding: 0 0 0 0;\n",
              "      width: 32px;\n",
              "    }\n",
              "\n",
              "    .colab-df-convert:hover {\n",
              "      background-color: #E2EBFA;\n",
              "      box-shadow: 0px 1px 2px rgba(60, 64, 67, 0.3), 0px 1px 3px 1px rgba(60, 64, 67, 0.15);\n",
              "      fill: #174EA6;\n",
              "    }\n",
              "\n",
              "    .colab-df-buttons div {\n",
              "      margin-bottom: 4px;\n",
              "    }\n",
              "\n",
              "    [theme=dark] .colab-df-convert {\n",
              "      background-color: #3B4455;\n",
              "      fill: #D2E3FC;\n",
              "    }\n",
              "\n",
              "    [theme=dark] .colab-df-convert:hover {\n",
              "      background-color: #434B5C;\n",
              "      box-shadow: 0px 1px 3px 1px rgba(0, 0, 0, 0.15);\n",
              "      filter: drop-shadow(0px 1px 2px rgba(0, 0, 0, 0.3));\n",
              "      fill: #FFFFFF;\n",
              "    }\n",
              "  </style>\n",
              "\n",
              "    <script>\n",
              "      const buttonEl =\n",
              "        document.querySelector('#df-b6af9b00-4278-4151-a42c-4915ca31e01a button.colab-df-convert');\n",
              "      buttonEl.style.display =\n",
              "        google.colab.kernel.accessAllowed ? 'block' : 'none';\n",
              "\n",
              "      async function convertToInteractive(key) {\n",
              "        const element = document.querySelector('#df-b6af9b00-4278-4151-a42c-4915ca31e01a');\n",
              "        const dataTable =\n",
              "          await google.colab.kernel.invokeFunction('convertToInteractive',\n",
              "                                                    [key], {});\n",
              "        if (!dataTable) return;\n",
              "\n",
              "        const docLinkHtml = 'Like what you see? Visit the ' +\n",
              "          '<a target=\"_blank\" href=https://colab.research.google.com/notebooks/data_table.ipynb>data table notebook</a>'\n",
              "          + ' to learn more about interactive tables.';\n",
              "        element.innerHTML = '';\n",
              "        dataTable['output_type'] = 'display_data';\n",
              "        await google.colab.output.renderOutput(dataTable, element);\n",
              "        const docLink = document.createElement('div');\n",
              "        docLink.innerHTML = docLinkHtml;\n",
              "        element.appendChild(docLink);\n",
              "      }\n",
              "    </script>\n",
              "  </div>\n",
              "\n",
              "\n",
              "    <div id=\"df-1334441a-ab0d-488d-86f8-6a3412cc99ba\">\n",
              "      <button class=\"colab-df-quickchart\" onclick=\"quickchart('df-1334441a-ab0d-488d-86f8-6a3412cc99ba')\"\n",
              "                title=\"Suggest charts\"\n",
              "                style=\"display:none;\">\n",
              "\n",
              "<svg xmlns=\"http://www.w3.org/2000/svg\" height=\"24px\"viewBox=\"0 0 24 24\"\n",
              "     width=\"24px\">\n",
              "    <g>\n",
              "        <path d=\"M19 3H5c-1.1 0-2 .9-2 2v14c0 1.1.9 2 2 2h14c1.1 0 2-.9 2-2V5c0-1.1-.9-2-2-2zM9 17H7v-7h2v7zm4 0h-2V7h2v10zm4 0h-2v-4h2v4z\"/>\n",
              "    </g>\n",
              "</svg>\n",
              "      </button>\n",
              "\n",
              "<style>\n",
              "  .colab-df-quickchart {\n",
              "      --bg-color: #E8F0FE;\n",
              "      --fill-color: #1967D2;\n",
              "      --hover-bg-color: #E2EBFA;\n",
              "      --hover-fill-color: #174EA6;\n",
              "      --disabled-fill-color: #AAA;\n",
              "      --disabled-bg-color: #DDD;\n",
              "  }\n",
              "\n",
              "  [theme=dark] .colab-df-quickchart {\n",
              "      --bg-color: #3B4455;\n",
              "      --fill-color: #D2E3FC;\n",
              "      --hover-bg-color: #434B5C;\n",
              "      --hover-fill-color: #FFFFFF;\n",
              "      --disabled-bg-color: #3B4455;\n",
              "      --disabled-fill-color: #666;\n",
              "  }\n",
              "\n",
              "  .colab-df-quickchart {\n",
              "    background-color: var(--bg-color);\n",
              "    border: none;\n",
              "    border-radius: 50%;\n",
              "    cursor: pointer;\n",
              "    display: none;\n",
              "    fill: var(--fill-color);\n",
              "    height: 32px;\n",
              "    padding: 0;\n",
              "    width: 32px;\n",
              "  }\n",
              "\n",
              "  .colab-df-quickchart:hover {\n",
              "    background-color: var(--hover-bg-color);\n",
              "    box-shadow: 0 1px 2px rgba(60, 64, 67, 0.3), 0 1px 3px 1px rgba(60, 64, 67, 0.15);\n",
              "    fill: var(--button-hover-fill-color);\n",
              "  }\n",
              "\n",
              "  .colab-df-quickchart-complete:disabled,\n",
              "  .colab-df-quickchart-complete:disabled:hover {\n",
              "    background-color: var(--disabled-bg-color);\n",
              "    fill: var(--disabled-fill-color);\n",
              "    box-shadow: none;\n",
              "  }\n",
              "\n",
              "  .colab-df-spinner {\n",
              "    border: 2px solid var(--fill-color);\n",
              "    border-color: transparent;\n",
              "    border-bottom-color: var(--fill-color);\n",
              "    animation:\n",
              "      spin 1s steps(1) infinite;\n",
              "  }\n",
              "\n",
              "  @keyframes spin {\n",
              "    0% {\n",
              "      border-color: transparent;\n",
              "      border-bottom-color: var(--fill-color);\n",
              "      border-left-color: var(--fill-color);\n",
              "    }\n",
              "    20% {\n",
              "      border-color: transparent;\n",
              "      border-left-color: var(--fill-color);\n",
              "      border-top-color: var(--fill-color);\n",
              "    }\n",
              "    30% {\n",
              "      border-color: transparent;\n",
              "      border-left-color: var(--fill-color);\n",
              "      border-top-color: var(--fill-color);\n",
              "      border-right-color: var(--fill-color);\n",
              "    }\n",
              "    40% {\n",
              "      border-color: transparent;\n",
              "      border-right-color: var(--fill-color);\n",
              "      border-top-color: var(--fill-color);\n",
              "    }\n",
              "    60% {\n",
              "      border-color: transparent;\n",
              "      border-right-color: var(--fill-color);\n",
              "    }\n",
              "    80% {\n",
              "      border-color: transparent;\n",
              "      border-right-color: var(--fill-color);\n",
              "      border-bottom-color: var(--fill-color);\n",
              "    }\n",
              "    90% {\n",
              "      border-color: transparent;\n",
              "      border-bottom-color: var(--fill-color);\n",
              "    }\n",
              "  }\n",
              "</style>\n",
              "\n",
              "      <script>\n",
              "        async function quickchart(key) {\n",
              "          const quickchartButtonEl =\n",
              "            document.querySelector('#' + key + ' button');\n",
              "          quickchartButtonEl.disabled = true;  // To prevent multiple clicks.\n",
              "          quickchartButtonEl.classList.add('colab-df-spinner');\n",
              "          try {\n",
              "            const charts = await google.colab.kernel.invokeFunction(\n",
              "                'suggestCharts', [key], {});\n",
              "          } catch (error) {\n",
              "            console.error('Error during call to suggestCharts:', error);\n",
              "          }\n",
              "          quickchartButtonEl.classList.remove('colab-df-spinner');\n",
              "          quickchartButtonEl.classList.add('colab-df-quickchart-complete');\n",
              "        }\n",
              "        (() => {\n",
              "          let quickchartButtonEl =\n",
              "            document.querySelector('#df-1334441a-ab0d-488d-86f8-6a3412cc99ba button');\n",
              "          quickchartButtonEl.style.display =\n",
              "            google.colab.kernel.accessAllowed ? 'block' : 'none';\n",
              "        })();\n",
              "      </script>\n",
              "    </div>\n",
              "\n",
              "    </div>\n",
              "  </div>\n"
            ],
            "application/vnd.google.colaboratory.intrinsic+json": {
              "type": "dataframe",
              "summary": "{\n  \"name\": \"dataset\",\n  \"rows\": 8,\n  \"fields\": [\n    {\n      \"column\": \"age\",\n      \"properties\": {\n        \"dtype\": \"number\",\n        \"std\": 315.1982928421392,\n        \"min\": 2.302721304614544,\n        \"max\": 909.0,\n        \"num_unique_values\": 8,\n        \"samples\": [\n          20.475247524752476,\n          20.0,\n          909.0\n        ],\n        \"semantic_type\": \"\",\n        \"description\": \"\"\n      }\n    },\n    {\n      \"column\": \"study_hours_per_day\",\n      \"properties\": {\n        \"dtype\": \"number\",\n        \"std\": 320.18674711227357,\n        \"min\": 0.0,\n        \"max\": 909.0,\n        \"num_unique_values\": 8,\n        \"samples\": [\n          3.5387238723872385,\n          3.5,\n          909.0\n        ],\n        \"semantic_type\": \"\",\n        \"description\": \"\"\n      }\n    },\n    {\n      \"column\": \"social_media_hours\",\n      \"properties\": {\n        \"dtype\": \"number\",\n        \"std\": 320.45921163772914,\n        \"min\": 0.0,\n        \"max\": 909.0,\n        \"num_unique_values\": 8,\n        \"samples\": [\n          2.504620462046205,\n          2.5,\n          909.0\n        ],\n        \"semantic_type\": \"\",\n        \"description\": \"\"\n      }\n    },\n    {\n      \"column\": \"netflix_hours\",\n      \"properties\": {\n        \"dtype\": \"number\",\n        \"std\": 320.6919692920243,\n        \"min\": 0.0,\n        \"max\": 909.0,\n        \"num_unique_values\": 8,\n        \"samples\": [\n          1.8303630363036305,\n          1.8,\n          909.0\n        ],\n        \"semantic_type\": \"\",\n        \"description\": \"\"\n      }\n    },\n    {\n      \"column\": \"attendance_percentage\",\n      \"properties\": {\n        \"dtype\": \"number\",\n        \"std\": 297.3918481495825,\n        \"min\": 9.453621868090364,\n        \"max\": 909.0,\n        \"num_unique_values\": 8,\n        \"samples\": [\n          83.88030803080306,\n          84.2,\n          909.0\n        ],\n        \"semantic_type\": \"\",\n        \"description\": \"\"\n      }\n    },\n    {\n      \"column\": \"sleep_hours\",\n      \"properties\": {\n        \"dtype\": \"number\",\n        \"std\": 319.35580102969817,\n        \"min\": 1.2189433943376624,\n        \"max\": 909.0,\n        \"num_unique_values\": 8,\n        \"samples\": [\n          6.474037403740374,\n          6.5,\n          909.0\n        ],\n        \"semantic_type\": \"\",\n        \"description\": \"\"\n      }\n    },\n    {\n      \"column\": \"exercise_frequency\",\n      \"properties\": {\n        \"dtype\": \"number\",\n        \"std\": 320.37144660355216,\n        \"min\": 0.0,\n        \"max\": 909.0,\n        \"num_unique_values\": 8,\n        \"samples\": [\n          3.0517051705170517,\n          3.0,\n          909.0\n        ],\n        \"semantic_type\": \"\",\n        \"description\": \"\"\n      }\n    },\n    {\n      \"column\": \"mental_health_rating\",\n      \"properties\": {\n        \"dtype\": \"number\",\n        \"std\": 319.60904178000595,\n        \"min\": 1.0,\n        \"max\": 909.0,\n        \"num_unique_values\": 8,\n        \"samples\": [\n          5.466446644664466,\n          5.0,\n          909.0\n        ],\n        \"semantic_type\": \"\",\n        \"description\": \"\"\n      }\n    },\n    {\n      \"column\": \"exam_score\",\n      \"properties\": {\n        \"dtype\": \"number\",\n        \"std\": 301.80481209777093,\n        \"min\": 16.92943606715595,\n        \"max\": 909.0,\n        \"num_unique_values\": 8,\n        \"samples\": [\n          69.55819581958195,\n          70.4,\n          909.0\n        ],\n        \"semantic_type\": \"\",\n        \"description\": \"\"\n      }\n    }\n  ]\n}"
            }
          },
          "metadata": {},
          "execution_count": 35
        }
      ]
    },
    {
      "cell_type": "markdown",
      "source": [
        "###2.2.2: Frequencia de Valores Unicos"
      ],
      "metadata": {
        "id": "xHz8Z4sn0Mrq"
      }
    },
    {
      "cell_type": "code",
      "source": [
        "dataset.select_dtypes(include='object').nunique()"
      ],
      "metadata": {
        "id": "7sX24doQu0oj",
        "outputId": "a5757e48-1fbf-41a4-ac32-297cc61859be",
        "colab": {
          "base_uri": "https://localhost:8080/",
          "height": 303
        }
      },
      "execution_count": 40,
      "outputs": [
        {
          "output_type": "execute_result",
          "data": {
            "text/plain": [
              "student_id                       909\n",
              "gender                             3\n",
              "part_time_job                      2\n",
              "diet_quality                       3\n",
              "parental_education_level           3\n",
              "internet_quality                   3\n",
              "extracurricular_participation      2\n",
              "dtype: int64"
            ],
            "text/html": [
              "<div>\n",
              "<style scoped>\n",
              "    .dataframe tbody tr th:only-of-type {\n",
              "        vertical-align: middle;\n",
              "    }\n",
              "\n",
              "    .dataframe tbody tr th {\n",
              "        vertical-align: top;\n",
              "    }\n",
              "\n",
              "    .dataframe thead th {\n",
              "        text-align: right;\n",
              "    }\n",
              "</style>\n",
              "<table border=\"1\" class=\"dataframe\">\n",
              "  <thead>\n",
              "    <tr style=\"text-align: right;\">\n",
              "      <th></th>\n",
              "      <th>0</th>\n",
              "    </tr>\n",
              "  </thead>\n",
              "  <tbody>\n",
              "    <tr>\n",
              "      <th>student_id</th>\n",
              "      <td>909</td>\n",
              "    </tr>\n",
              "    <tr>\n",
              "      <th>gender</th>\n",
              "      <td>3</td>\n",
              "    </tr>\n",
              "    <tr>\n",
              "      <th>part_time_job</th>\n",
              "      <td>2</td>\n",
              "    </tr>\n",
              "    <tr>\n",
              "      <th>diet_quality</th>\n",
              "      <td>3</td>\n",
              "    </tr>\n",
              "    <tr>\n",
              "      <th>parental_education_level</th>\n",
              "      <td>3</td>\n",
              "    </tr>\n",
              "    <tr>\n",
              "      <th>internet_quality</th>\n",
              "      <td>3</td>\n",
              "    </tr>\n",
              "    <tr>\n",
              "      <th>extracurricular_participation</th>\n",
              "      <td>2</td>\n",
              "    </tr>\n",
              "  </tbody>\n",
              "</table>\n",
              "</div><br><label><b>dtype:</b> int64</label>"
            ]
          },
          "metadata": {},
          "execution_count": 40
        }
      ]
    },
    {
      "cell_type": "markdown",
      "source": [],
      "metadata": {
        "id": "tJgSZ6IX4nWW"
      }
    },
    {
      "cell_type": "markdown",
      "source": [
        "### 2.2.3: Valores Fora do Padrão"
      ],
      "metadata": {
        "id": "sWsOV3wo2IO5"
      }
    },
    {
      "cell_type": "code",
      "source": [
        "Q1 = dataset['exam_score'].quantile(0.25)\n",
        "Q3 = dataset['exam_score'].quantile(0.75)\n",
        "IQR = Q3 - Q1\n",
        "\n",
        "outliers = dataset[(dataset['exam_score'] < Q1 - 1.5 * IQR) | (dataset['exam_score'] > Q3 + 1.5 * IQR)]\n",
        "print(f\"Número de outliers em 'exam_score': {len(outliers)}\")"
      ],
      "metadata": {
        "id": "aoNwX3vi2OBz",
        "outputId": "d9b7a247-3ecc-44dc-aa83-634ddf99be3c",
        "colab": {
          "base_uri": "https://localhost:8080/"
        }
      },
      "execution_count": 51,
      "outputs": [
        {
          "output_type": "stream",
          "name": "stdout",
          "text": [
            "Número de outliers em 'exam_score': 2\n"
          ]
        }
      ]
    },
    {
      "cell_type": "markdown",
      "source": [
        "Dentre as notas dos alunos a dois registros que se encontram fora do padrão"
      ],
      "metadata": {
        "id": "YdYsolsP2s-Z"
      }
    },
    {
      "cell_type": "markdown",
      "source": [
        "##2.3: Visualizações Graficas"
      ],
      "metadata": {
        "id": "fg1_jDN94pL-"
      }
    },
    {
      "cell_type": "code",
      "source": [
        "##Construa visualizações gráficas para melhor interpretar os dados"
      ],
      "metadata": {
        "id": "A5GA5gKV46D3"
      },
      "execution_count": 37,
      "outputs": []
    },
    {
      "cell_type": "markdown",
      "source": [
        "#3: Perguntas"
      ],
      "metadata": {
        "id": "BgiP8ep64_7_"
      }
    },
    {
      "cell_type": "markdown",
      "source": [
        "## 3.1: Existe diferença entre meninos e meninas na participação em atividades extracurriculares?"
      ],
      "metadata": {
        "id": "NJZAXUKD5HN9"
      }
    },
    {
      "cell_type": "code",
      "source": [
        "pd.crosstab(dataset['gender'], dataset['extracurricular_participation'], normalize='index') * 100"
      ],
      "metadata": {
        "id": "jvX85yOtk4Nt",
        "outputId": "63c57453-d1f7-4367-e8fd-eb1d9c257a13",
        "colab": {
          "base_uri": "https://localhost:8080/",
          "height": 175
        }
      },
      "execution_count": 43,
      "outputs": [
        {
          "output_type": "execute_result",
          "data": {
            "text/plain": [
              "extracurricular_participation         No        Yes\n",
              "gender                                             \n",
              "Female                         67.898383  32.101617\n",
              "Male                           68.863636  31.136364\n",
              "Other                          63.888889  36.111111"
            ],
            "text/html": [
              "\n",
              "  <div id=\"df-07d1b6a3-4bed-4814-978f-30928c251233\" class=\"colab-df-container\">\n",
              "    <div>\n",
              "<style scoped>\n",
              "    .dataframe tbody tr th:only-of-type {\n",
              "        vertical-align: middle;\n",
              "    }\n",
              "\n",
              "    .dataframe tbody tr th {\n",
              "        vertical-align: top;\n",
              "    }\n",
              "\n",
              "    .dataframe thead th {\n",
              "        text-align: right;\n",
              "    }\n",
              "</style>\n",
              "<table border=\"1\" class=\"dataframe\">\n",
              "  <thead>\n",
              "    <tr style=\"text-align: right;\">\n",
              "      <th>extracurricular_participation</th>\n",
              "      <th>No</th>\n",
              "      <th>Yes</th>\n",
              "    </tr>\n",
              "    <tr>\n",
              "      <th>gender</th>\n",
              "      <th></th>\n",
              "      <th></th>\n",
              "    </tr>\n",
              "  </thead>\n",
              "  <tbody>\n",
              "    <tr>\n",
              "      <th>Female</th>\n",
              "      <td>67.898383</td>\n",
              "      <td>32.101617</td>\n",
              "    </tr>\n",
              "    <tr>\n",
              "      <th>Male</th>\n",
              "      <td>68.863636</td>\n",
              "      <td>31.136364</td>\n",
              "    </tr>\n",
              "    <tr>\n",
              "      <th>Other</th>\n",
              "      <td>63.888889</td>\n",
              "      <td>36.111111</td>\n",
              "    </tr>\n",
              "  </tbody>\n",
              "</table>\n",
              "</div>\n",
              "    <div class=\"colab-df-buttons\">\n",
              "\n",
              "  <div class=\"colab-df-container\">\n",
              "    <button class=\"colab-df-convert\" onclick=\"convertToInteractive('df-07d1b6a3-4bed-4814-978f-30928c251233')\"\n",
              "            title=\"Convert this dataframe to an interactive table.\"\n",
              "            style=\"display:none;\">\n",
              "\n",
              "  <svg xmlns=\"http://www.w3.org/2000/svg\" height=\"24px\" viewBox=\"0 -960 960 960\">\n",
              "    <path d=\"M120-120v-720h720v720H120Zm60-500h600v-160H180v160Zm220 220h160v-160H400v160Zm0 220h160v-160H400v160ZM180-400h160v-160H180v160Zm440 0h160v-160H620v160ZM180-180h160v-160H180v160Zm440 0h160v-160H620v160Z\"/>\n",
              "  </svg>\n",
              "    </button>\n",
              "\n",
              "  <style>\n",
              "    .colab-df-container {\n",
              "      display:flex;\n",
              "      gap: 12px;\n",
              "    }\n",
              "\n",
              "    .colab-df-convert {\n",
              "      background-color: #E8F0FE;\n",
              "      border: none;\n",
              "      border-radius: 50%;\n",
              "      cursor: pointer;\n",
              "      display: none;\n",
              "      fill: #1967D2;\n",
              "      height: 32px;\n",
              "      padding: 0 0 0 0;\n",
              "      width: 32px;\n",
              "    }\n",
              "\n",
              "    .colab-df-convert:hover {\n",
              "      background-color: #E2EBFA;\n",
              "      box-shadow: 0px 1px 2px rgba(60, 64, 67, 0.3), 0px 1px 3px 1px rgba(60, 64, 67, 0.15);\n",
              "      fill: #174EA6;\n",
              "    }\n",
              "\n",
              "    .colab-df-buttons div {\n",
              "      margin-bottom: 4px;\n",
              "    }\n",
              "\n",
              "    [theme=dark] .colab-df-convert {\n",
              "      background-color: #3B4455;\n",
              "      fill: #D2E3FC;\n",
              "    }\n",
              "\n",
              "    [theme=dark] .colab-df-convert:hover {\n",
              "      background-color: #434B5C;\n",
              "      box-shadow: 0px 1px 3px 1px rgba(0, 0, 0, 0.15);\n",
              "      filter: drop-shadow(0px 1px 2px rgba(0, 0, 0, 0.3));\n",
              "      fill: #FFFFFF;\n",
              "    }\n",
              "  </style>\n",
              "\n",
              "    <script>\n",
              "      const buttonEl =\n",
              "        document.querySelector('#df-07d1b6a3-4bed-4814-978f-30928c251233 button.colab-df-convert');\n",
              "      buttonEl.style.display =\n",
              "        google.colab.kernel.accessAllowed ? 'block' : 'none';\n",
              "\n",
              "      async function convertToInteractive(key) {\n",
              "        const element = document.querySelector('#df-07d1b6a3-4bed-4814-978f-30928c251233');\n",
              "        const dataTable =\n",
              "          await google.colab.kernel.invokeFunction('convertToInteractive',\n",
              "                                                    [key], {});\n",
              "        if (!dataTable) return;\n",
              "\n",
              "        const docLinkHtml = 'Like what you see? Visit the ' +\n",
              "          '<a target=\"_blank\" href=https://colab.research.google.com/notebooks/data_table.ipynb>data table notebook</a>'\n",
              "          + ' to learn more about interactive tables.';\n",
              "        element.innerHTML = '';\n",
              "        dataTable['output_type'] = 'display_data';\n",
              "        await google.colab.output.renderOutput(dataTable, element);\n",
              "        const docLink = document.createElement('div');\n",
              "        docLink.innerHTML = docLinkHtml;\n",
              "        element.appendChild(docLink);\n",
              "      }\n",
              "    </script>\n",
              "  </div>\n",
              "\n",
              "\n",
              "    <div id=\"df-c457ad40-cbf7-4a81-9116-842b515ab1e8\">\n",
              "      <button class=\"colab-df-quickchart\" onclick=\"quickchart('df-c457ad40-cbf7-4a81-9116-842b515ab1e8')\"\n",
              "                title=\"Suggest charts\"\n",
              "                style=\"display:none;\">\n",
              "\n",
              "<svg xmlns=\"http://www.w3.org/2000/svg\" height=\"24px\"viewBox=\"0 0 24 24\"\n",
              "     width=\"24px\">\n",
              "    <g>\n",
              "        <path d=\"M19 3H5c-1.1 0-2 .9-2 2v14c0 1.1.9 2 2 2h14c1.1 0 2-.9 2-2V5c0-1.1-.9-2-2-2zM9 17H7v-7h2v7zm4 0h-2V7h2v10zm4 0h-2v-4h2v4z\"/>\n",
              "    </g>\n",
              "</svg>\n",
              "      </button>\n",
              "\n",
              "<style>\n",
              "  .colab-df-quickchart {\n",
              "      --bg-color: #E8F0FE;\n",
              "      --fill-color: #1967D2;\n",
              "      --hover-bg-color: #E2EBFA;\n",
              "      --hover-fill-color: #174EA6;\n",
              "      --disabled-fill-color: #AAA;\n",
              "      --disabled-bg-color: #DDD;\n",
              "  }\n",
              "\n",
              "  [theme=dark] .colab-df-quickchart {\n",
              "      --bg-color: #3B4455;\n",
              "      --fill-color: #D2E3FC;\n",
              "      --hover-bg-color: #434B5C;\n",
              "      --hover-fill-color: #FFFFFF;\n",
              "      --disabled-bg-color: #3B4455;\n",
              "      --disabled-fill-color: #666;\n",
              "  }\n",
              "\n",
              "  .colab-df-quickchart {\n",
              "    background-color: var(--bg-color);\n",
              "    border: none;\n",
              "    border-radius: 50%;\n",
              "    cursor: pointer;\n",
              "    display: none;\n",
              "    fill: var(--fill-color);\n",
              "    height: 32px;\n",
              "    padding: 0;\n",
              "    width: 32px;\n",
              "  }\n",
              "\n",
              "  .colab-df-quickchart:hover {\n",
              "    background-color: var(--hover-bg-color);\n",
              "    box-shadow: 0 1px 2px rgba(60, 64, 67, 0.3), 0 1px 3px 1px rgba(60, 64, 67, 0.15);\n",
              "    fill: var(--button-hover-fill-color);\n",
              "  }\n",
              "\n",
              "  .colab-df-quickchart-complete:disabled,\n",
              "  .colab-df-quickchart-complete:disabled:hover {\n",
              "    background-color: var(--disabled-bg-color);\n",
              "    fill: var(--disabled-fill-color);\n",
              "    box-shadow: none;\n",
              "  }\n",
              "\n",
              "  .colab-df-spinner {\n",
              "    border: 2px solid var(--fill-color);\n",
              "    border-color: transparent;\n",
              "    border-bottom-color: var(--fill-color);\n",
              "    animation:\n",
              "      spin 1s steps(1) infinite;\n",
              "  }\n",
              "\n",
              "  @keyframes spin {\n",
              "    0% {\n",
              "      border-color: transparent;\n",
              "      border-bottom-color: var(--fill-color);\n",
              "      border-left-color: var(--fill-color);\n",
              "    }\n",
              "    20% {\n",
              "      border-color: transparent;\n",
              "      border-left-color: var(--fill-color);\n",
              "      border-top-color: var(--fill-color);\n",
              "    }\n",
              "    30% {\n",
              "      border-color: transparent;\n",
              "      border-left-color: var(--fill-color);\n",
              "      border-top-color: var(--fill-color);\n",
              "      border-right-color: var(--fill-color);\n",
              "    }\n",
              "    40% {\n",
              "      border-color: transparent;\n",
              "      border-right-color: var(--fill-color);\n",
              "      border-top-color: var(--fill-color);\n",
              "    }\n",
              "    60% {\n",
              "      border-color: transparent;\n",
              "      border-right-color: var(--fill-color);\n",
              "    }\n",
              "    80% {\n",
              "      border-color: transparent;\n",
              "      border-right-color: var(--fill-color);\n",
              "      border-bottom-color: var(--fill-color);\n",
              "    }\n",
              "    90% {\n",
              "      border-color: transparent;\n",
              "      border-bottom-color: var(--fill-color);\n",
              "    }\n",
              "  }\n",
              "</style>\n",
              "\n",
              "      <script>\n",
              "        async function quickchart(key) {\n",
              "          const quickchartButtonEl =\n",
              "            document.querySelector('#' + key + ' button');\n",
              "          quickchartButtonEl.disabled = true;  // To prevent multiple clicks.\n",
              "          quickchartButtonEl.classList.add('colab-df-spinner');\n",
              "          try {\n",
              "            const charts = await google.colab.kernel.invokeFunction(\n",
              "                'suggestCharts', [key], {});\n",
              "          } catch (error) {\n",
              "            console.error('Error during call to suggestCharts:', error);\n",
              "          }\n",
              "          quickchartButtonEl.classList.remove('colab-df-spinner');\n",
              "          quickchartButtonEl.classList.add('colab-df-quickchart-complete');\n",
              "        }\n",
              "        (() => {\n",
              "          let quickchartButtonEl =\n",
              "            document.querySelector('#df-c457ad40-cbf7-4a81-9116-842b515ab1e8 button');\n",
              "          quickchartButtonEl.style.display =\n",
              "            google.colab.kernel.accessAllowed ? 'block' : 'none';\n",
              "        })();\n",
              "      </script>\n",
              "    </div>\n",
              "\n",
              "    </div>\n",
              "  </div>\n"
            ],
            "application/vnd.google.colaboratory.intrinsic+json": {
              "type": "dataframe",
              "summary": "{\n  \"name\": \"pd\",\n  \"rows\": 3,\n  \"fields\": [\n    {\n      \"column\": \"gender\",\n      \"properties\": {\n        \"dtype\": \"string\",\n        \"num_unique_values\": 3,\n        \"samples\": [\n          \"Female\",\n          \"Male\",\n          \"Other\"\n        ],\n        \"semantic_type\": \"\",\n        \"description\": \"\"\n      }\n    },\n    {\n      \"column\": \"No\",\n      \"properties\": {\n        \"dtype\": \"number\",\n        \"std\": 2.638050788757965,\n        \"min\": 63.888888888888886,\n        \"max\": 68.86363636363636,\n        \"num_unique_values\": 3,\n        \"samples\": [\n          67.89838337182448,\n          68.86363636363636,\n          63.888888888888886\n        ],\n        \"semantic_type\": \"\",\n        \"description\": \"\"\n      }\n    },\n    {\n      \"column\": \"Yes\",\n      \"properties\": {\n        \"dtype\": \"number\",\n        \"std\": 2.6380507887579636,\n        \"min\": 31.136363636363633,\n        \"max\": 36.11111111111111,\n        \"num_unique_values\": 3,\n        \"samples\": [\n          32.10161662817552,\n          31.136363636363633,\n          36.11111111111111\n        ],\n        \"semantic_type\": \"\",\n        \"description\": \"\"\n      }\n    }\n  ]\n}"
            }
          },
          "metadata": {},
          "execution_count": 43
        }
      ]
    },
    {
      "cell_type": "markdown",
      "source": [
        "A participação em atividades extracurriculares é semelhante entre os gêneros, com variação de poucos pontos percentuais.\n",
        "Ela é baixa para todos os grupos, ou seja, não há uma diferença significativa entre meninas (32,1%) e meninos (31,1%) e o grupo \"Other\" foi quem apresentou a maior taxa de participação (36,1%)."
      ],
      "metadata": {
        "id": "J5d_Y7atlQ3u"
      }
    },
    {
      "cell_type": "markdown",
      "source": [
        "## 3.2: Qual a relação entre o nível de escolaridade dos pais e a qualidade da dieta dos filhos?"
      ],
      "metadata": {
        "id": "jUy-Um-f5Miu"
      }
    },
    {
      "cell_type": "code",
      "source": [
        "pd.crosstab(dataset['parental_education_level'], dataset['diet_quality'], normalize='index') * 100"
      ],
      "metadata": {
        "id": "Ibqi-aS0l7f7",
        "outputId": "d45343c3-d201-48d6-b3ee-b5c26017809f",
        "colab": {
          "base_uri": "https://localhost:8080/",
          "height": 175
        }
      },
      "execution_count": 44,
      "outputs": [
        {
          "output_type": "execute_result",
          "data": {
            "text/plain": [
              "diet_quality                   Fair       Good       Poor\n",
              "parental_education_level                                 \n",
              "Bachelor                  44.857143  37.142857  18.000000\n",
              "High school               42.602041  39.795918  17.602041\n",
              "Master                    43.113772  36.526946  20.359281"
            ],
            "text/html": [
              "\n",
              "  <div id=\"df-da3f8b0d-4e39-4112-9d6f-b230efbb7ae8\" class=\"colab-df-container\">\n",
              "    <div>\n",
              "<style scoped>\n",
              "    .dataframe tbody tr th:only-of-type {\n",
              "        vertical-align: middle;\n",
              "    }\n",
              "\n",
              "    .dataframe tbody tr th {\n",
              "        vertical-align: top;\n",
              "    }\n",
              "\n",
              "    .dataframe thead th {\n",
              "        text-align: right;\n",
              "    }\n",
              "</style>\n",
              "<table border=\"1\" class=\"dataframe\">\n",
              "  <thead>\n",
              "    <tr style=\"text-align: right;\">\n",
              "      <th>diet_quality</th>\n",
              "      <th>Fair</th>\n",
              "      <th>Good</th>\n",
              "      <th>Poor</th>\n",
              "    </tr>\n",
              "    <tr>\n",
              "      <th>parental_education_level</th>\n",
              "      <th></th>\n",
              "      <th></th>\n",
              "      <th></th>\n",
              "    </tr>\n",
              "  </thead>\n",
              "  <tbody>\n",
              "    <tr>\n",
              "      <th>Bachelor</th>\n",
              "      <td>44.857143</td>\n",
              "      <td>37.142857</td>\n",
              "      <td>18.000000</td>\n",
              "    </tr>\n",
              "    <tr>\n",
              "      <th>High school</th>\n",
              "      <td>42.602041</td>\n",
              "      <td>39.795918</td>\n",
              "      <td>17.602041</td>\n",
              "    </tr>\n",
              "    <tr>\n",
              "      <th>Master</th>\n",
              "      <td>43.113772</td>\n",
              "      <td>36.526946</td>\n",
              "      <td>20.359281</td>\n",
              "    </tr>\n",
              "  </tbody>\n",
              "</table>\n",
              "</div>\n",
              "    <div class=\"colab-df-buttons\">\n",
              "\n",
              "  <div class=\"colab-df-container\">\n",
              "    <button class=\"colab-df-convert\" onclick=\"convertToInteractive('df-da3f8b0d-4e39-4112-9d6f-b230efbb7ae8')\"\n",
              "            title=\"Convert this dataframe to an interactive table.\"\n",
              "            style=\"display:none;\">\n",
              "\n",
              "  <svg xmlns=\"http://www.w3.org/2000/svg\" height=\"24px\" viewBox=\"0 -960 960 960\">\n",
              "    <path d=\"M120-120v-720h720v720H120Zm60-500h600v-160H180v160Zm220 220h160v-160H400v160Zm0 220h160v-160H400v160ZM180-400h160v-160H180v160Zm440 0h160v-160H620v160ZM180-180h160v-160H180v160Zm440 0h160v-160H620v160Z\"/>\n",
              "  </svg>\n",
              "    </button>\n",
              "\n",
              "  <style>\n",
              "    .colab-df-container {\n",
              "      display:flex;\n",
              "      gap: 12px;\n",
              "    }\n",
              "\n",
              "    .colab-df-convert {\n",
              "      background-color: #E8F0FE;\n",
              "      border: none;\n",
              "      border-radius: 50%;\n",
              "      cursor: pointer;\n",
              "      display: none;\n",
              "      fill: #1967D2;\n",
              "      height: 32px;\n",
              "      padding: 0 0 0 0;\n",
              "      width: 32px;\n",
              "    }\n",
              "\n",
              "    .colab-df-convert:hover {\n",
              "      background-color: #E2EBFA;\n",
              "      box-shadow: 0px 1px 2px rgba(60, 64, 67, 0.3), 0px 1px 3px 1px rgba(60, 64, 67, 0.15);\n",
              "      fill: #174EA6;\n",
              "    }\n",
              "\n",
              "    .colab-df-buttons div {\n",
              "      margin-bottom: 4px;\n",
              "    }\n",
              "\n",
              "    [theme=dark] .colab-df-convert {\n",
              "      background-color: #3B4455;\n",
              "      fill: #D2E3FC;\n",
              "    }\n",
              "\n",
              "    [theme=dark] .colab-df-convert:hover {\n",
              "      background-color: #434B5C;\n",
              "      box-shadow: 0px 1px 3px 1px rgba(0, 0, 0, 0.15);\n",
              "      filter: drop-shadow(0px 1px 2px rgba(0, 0, 0, 0.3));\n",
              "      fill: #FFFFFF;\n",
              "    }\n",
              "  </style>\n",
              "\n",
              "    <script>\n",
              "      const buttonEl =\n",
              "        document.querySelector('#df-da3f8b0d-4e39-4112-9d6f-b230efbb7ae8 button.colab-df-convert');\n",
              "      buttonEl.style.display =\n",
              "        google.colab.kernel.accessAllowed ? 'block' : 'none';\n",
              "\n",
              "      async function convertToInteractive(key) {\n",
              "        const element = document.querySelector('#df-da3f8b0d-4e39-4112-9d6f-b230efbb7ae8');\n",
              "        const dataTable =\n",
              "          await google.colab.kernel.invokeFunction('convertToInteractive',\n",
              "                                                    [key], {});\n",
              "        if (!dataTable) return;\n",
              "\n",
              "        const docLinkHtml = 'Like what you see? Visit the ' +\n",
              "          '<a target=\"_blank\" href=https://colab.research.google.com/notebooks/data_table.ipynb>data table notebook</a>'\n",
              "          + ' to learn more about interactive tables.';\n",
              "        element.innerHTML = '';\n",
              "        dataTable['output_type'] = 'display_data';\n",
              "        await google.colab.output.renderOutput(dataTable, element);\n",
              "        const docLink = document.createElement('div');\n",
              "        docLink.innerHTML = docLinkHtml;\n",
              "        element.appendChild(docLink);\n",
              "      }\n",
              "    </script>\n",
              "  </div>\n",
              "\n",
              "\n",
              "    <div id=\"df-b69f5e48-4386-4eee-866f-2b333c717f78\">\n",
              "      <button class=\"colab-df-quickchart\" onclick=\"quickchart('df-b69f5e48-4386-4eee-866f-2b333c717f78')\"\n",
              "                title=\"Suggest charts\"\n",
              "                style=\"display:none;\">\n",
              "\n",
              "<svg xmlns=\"http://www.w3.org/2000/svg\" height=\"24px\"viewBox=\"0 0 24 24\"\n",
              "     width=\"24px\">\n",
              "    <g>\n",
              "        <path d=\"M19 3H5c-1.1 0-2 .9-2 2v14c0 1.1.9 2 2 2h14c1.1 0 2-.9 2-2V5c0-1.1-.9-2-2-2zM9 17H7v-7h2v7zm4 0h-2V7h2v10zm4 0h-2v-4h2v4z\"/>\n",
              "    </g>\n",
              "</svg>\n",
              "      </button>\n",
              "\n",
              "<style>\n",
              "  .colab-df-quickchart {\n",
              "      --bg-color: #E8F0FE;\n",
              "      --fill-color: #1967D2;\n",
              "      --hover-bg-color: #E2EBFA;\n",
              "      --hover-fill-color: #174EA6;\n",
              "      --disabled-fill-color: #AAA;\n",
              "      --disabled-bg-color: #DDD;\n",
              "  }\n",
              "\n",
              "  [theme=dark] .colab-df-quickchart {\n",
              "      --bg-color: #3B4455;\n",
              "      --fill-color: #D2E3FC;\n",
              "      --hover-bg-color: #434B5C;\n",
              "      --hover-fill-color: #FFFFFF;\n",
              "      --disabled-bg-color: #3B4455;\n",
              "      --disabled-fill-color: #666;\n",
              "  }\n",
              "\n",
              "  .colab-df-quickchart {\n",
              "    background-color: var(--bg-color);\n",
              "    border: none;\n",
              "    border-radius: 50%;\n",
              "    cursor: pointer;\n",
              "    display: none;\n",
              "    fill: var(--fill-color);\n",
              "    height: 32px;\n",
              "    padding: 0;\n",
              "    width: 32px;\n",
              "  }\n",
              "\n",
              "  .colab-df-quickchart:hover {\n",
              "    background-color: var(--hover-bg-color);\n",
              "    box-shadow: 0 1px 2px rgba(60, 64, 67, 0.3), 0 1px 3px 1px rgba(60, 64, 67, 0.15);\n",
              "    fill: var(--button-hover-fill-color);\n",
              "  }\n",
              "\n",
              "  .colab-df-quickchart-complete:disabled,\n",
              "  .colab-df-quickchart-complete:disabled:hover {\n",
              "    background-color: var(--disabled-bg-color);\n",
              "    fill: var(--disabled-fill-color);\n",
              "    box-shadow: none;\n",
              "  }\n",
              "\n",
              "  .colab-df-spinner {\n",
              "    border: 2px solid var(--fill-color);\n",
              "    border-color: transparent;\n",
              "    border-bottom-color: var(--fill-color);\n",
              "    animation:\n",
              "      spin 1s steps(1) infinite;\n",
              "  }\n",
              "\n",
              "  @keyframes spin {\n",
              "    0% {\n",
              "      border-color: transparent;\n",
              "      border-bottom-color: var(--fill-color);\n",
              "      border-left-color: var(--fill-color);\n",
              "    }\n",
              "    20% {\n",
              "      border-color: transparent;\n",
              "      border-left-color: var(--fill-color);\n",
              "      border-top-color: var(--fill-color);\n",
              "    }\n",
              "    30% {\n",
              "      border-color: transparent;\n",
              "      border-left-color: var(--fill-color);\n",
              "      border-top-color: var(--fill-color);\n",
              "      border-right-color: var(--fill-color);\n",
              "    }\n",
              "    40% {\n",
              "      border-color: transparent;\n",
              "      border-right-color: var(--fill-color);\n",
              "      border-top-color: var(--fill-color);\n",
              "    }\n",
              "    60% {\n",
              "      border-color: transparent;\n",
              "      border-right-color: var(--fill-color);\n",
              "    }\n",
              "    80% {\n",
              "      border-color: transparent;\n",
              "      border-right-color: var(--fill-color);\n",
              "      border-bottom-color: var(--fill-color);\n",
              "    }\n",
              "    90% {\n",
              "      border-color: transparent;\n",
              "      border-bottom-color: var(--fill-color);\n",
              "    }\n",
              "  }\n",
              "</style>\n",
              "\n",
              "      <script>\n",
              "        async function quickchart(key) {\n",
              "          const quickchartButtonEl =\n",
              "            document.querySelector('#' + key + ' button');\n",
              "          quickchartButtonEl.disabled = true;  // To prevent multiple clicks.\n",
              "          quickchartButtonEl.classList.add('colab-df-spinner');\n",
              "          try {\n",
              "            const charts = await google.colab.kernel.invokeFunction(\n",
              "                'suggestCharts', [key], {});\n",
              "          } catch (error) {\n",
              "            console.error('Error during call to suggestCharts:', error);\n",
              "          }\n",
              "          quickchartButtonEl.classList.remove('colab-df-spinner');\n",
              "          quickchartButtonEl.classList.add('colab-df-quickchart-complete');\n",
              "        }\n",
              "        (() => {\n",
              "          let quickchartButtonEl =\n",
              "            document.querySelector('#df-b69f5e48-4386-4eee-866f-2b333c717f78 button');\n",
              "          quickchartButtonEl.style.display =\n",
              "            google.colab.kernel.accessAllowed ? 'block' : 'none';\n",
              "        })();\n",
              "      </script>\n",
              "    </div>\n",
              "\n",
              "    </div>\n",
              "  </div>\n"
            ],
            "application/vnd.google.colaboratory.intrinsic+json": {
              "type": "dataframe",
              "summary": "{\n  \"name\": \"pd\",\n  \"rows\": 3,\n  \"fields\": [\n    {\n      \"column\": \"parental_education_level\",\n      \"properties\": {\n        \"dtype\": \"string\",\n        \"num_unique_values\": 3,\n        \"samples\": [\n          \"Bachelor\",\n          \"High school\",\n          \"Master\"\n        ],\n        \"semantic_type\": \"\",\n        \"description\": \"\"\n      }\n    },\n    {\n      \"column\": \"Fair\",\n      \"properties\": {\n        \"dtype\": \"number\",\n        \"std\": 1.1822785094440784,\n        \"min\": 42.60204081632653,\n        \"max\": 44.857142857142854,\n        \"num_unique_values\": 3,\n        \"samples\": [\n          44.857142857142854,\n          42.60204081632653,\n          43.11377245508982\n        ],\n        \"semantic_type\": \"\",\n        \"description\": \"\"\n      }\n    },\n    {\n      \"column\": \"Good\",\n      \"properties\": {\n        \"dtype\": \"number\",\n        \"std\": 1.7370597714627236,\n        \"min\": 36.52694610778443,\n        \"max\": 39.795918367346935,\n        \"num_unique_values\": 3,\n        \"samples\": [\n          37.142857142857146,\n          39.795918367346935,\n          36.52694610778443\n        ],\n        \"semantic_type\": \"\",\n        \"description\": \"\"\n      }\n    },\n    {\n      \"column\": \"Poor\",\n      \"properties\": {\n        \"dtype\": \"number\",\n        \"std\": 1.4903554527036738,\n        \"min\": 17.602040816326532,\n        \"max\": 20.35928143712575,\n        \"num_unique_values\": 3,\n        \"samples\": [\n          18.0,\n          17.602040816326532,\n          20.35928143712575\n        ],\n        \"semantic_type\": \"\",\n        \"description\": \"\"\n      }\n    }\n  ]\n}"
            }
          },
          "metadata": {},
          "execution_count": 44
        }
      ]
    },
    {
      "cell_type": "markdown",
      "source": [
        "Não há uma relação linear clara entre maior escolaridade dos pais e melhor dieta dos estudantes. Já que em todos os níveis de escolaridade, a maior parte dos estudantes tem uma dieta \"Fair\"(razoável).\n",
        "Na verdade, os dados sugerem que pais com ensino médio podem estar associados a hábitos alimentares ligeiramente melhores nos filhos."
      ],
      "metadata": {
        "id": "JGdPyi9EmIB7"
      }
    },
    {
      "cell_type": "markdown",
      "source": [
        "## 3.3: Correlação entre horas de estudo e Notas"
      ],
      "metadata": {
        "id": "fKfp1Hzf5NdO"
      }
    },
    {
      "cell_type": "code",
      "source": [
        "correlacao = dataset['exam_score'].corr(dataset['study_hours_per_day'])\n",
        "print(f\"Correlação entre notas e horas de estudo: {correlacao:.2f}\")"
      ],
      "metadata": {
        "id": "hYOrs0pz1sqD",
        "outputId": "e0f7ccd6-ca62-4409-cae8-b4b4b30ac1e1",
        "colab": {
          "base_uri": "https://localhost:8080/"
        }
      },
      "execution_count": 53,
      "outputs": [
        {
          "output_type": "stream",
          "name": "stdout",
          "text": [
            "Correlação entre notas e horas de estudo: 0.82\n"
          ]
        }
      ]
    },
    {
      "cell_type": "code",
      "source": [
        "\n",
        "sns.lmplot(x='study_hours_per_day', y='exam_score', data=dataset)\n",
        "plt.title('Relação entre Horas de Estudo e Nota do Exame')\n",
        "plt.xlabel('Horas de Estudo por Dia')\n",
        "plt.ylabel('Nota no Exame')\n",
        "plt.show()"
      ],
      "metadata": {
        "id": "6-bC0Fon3HtZ",
        "outputId": "d5238674-4900-4fc8-a5e7-18995726eb46",
        "colab": {
          "base_uri": "https://localhost:8080/",
          "height": 529
        }
      },
      "execution_count": 54,
      "outputs": [
        {
          "output_type": "display_data",
          "data": {
            "text/plain": [
              "<Figure size 500x500 with 1 Axes>"
            ],
            "image/png": "[encoded data removed]"
          },
          "metadata": {}
        }
      ]
    },
    {
      "cell_type": "markdown",
      "source": [
        "## 3.4:"
      ],
      "metadata": {
        "id": "Y-IMzvVh5ODu"
      }
    },
    {
      "cell_type": "markdown",
      "source": [
        "## 3.5:"
      ],
      "metadata": {
        "id": "dw0Zb-sG5Pem"
      }
    },
    {
      "cell_type": "markdown",
      "source": [
        "## 3.6:"
      ],
      "metadata": {
        "id": "UNqUNZ0S5QXm"
      }
    }
  ]
}