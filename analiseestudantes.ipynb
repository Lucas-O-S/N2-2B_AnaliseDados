{
  "nbformat": 4,
  "nbformat_minor": 0,
  "metadata": {
    "colab": {
      "provenance": [],
      "authorship_tag": "ABX9TyN2lHRMzWVtBPyOO0R93yRl",
      "include_colab_link": true
    },
    "kernelspec": {
      "name": "python3",
      "display_name": "Python 3"
    },
    "language_info": {
      "name": "python"
    }
  },
  "cells": [
    {
      "cell_type": "markdown",
      "metadata": {
        "id": "view-in-github",
        "colab_type": "text"
      },
      "source": [
        "<a href=\"https://colab.research.google.com/github/Lucas-O-S/N2-2B_AnaliseDados/blob/main/analiseestudantes.ipynb\" target=\"_parent\"><img src=\"https://colab.research.google.com/assets/colab-badge.svg\" alt=\"Open In Colab\"/></a>"
      ]
    },
    {
      "cell_type": "markdown",
      "source": [
        "<a rel=\"license\" href=\"https://faculdadesalvadorarena.org.br/\"><img alt=\"FESA\" style=\"border-width:0\" src=\"https://faculdadesalvadorarena.org.br/wp-content/uploads/2022/07/logo_fesa.png\" /></a><br />\n",
        "**FESA - Eletiva II (2025.1)** <br/>\n",
        "\n",
        "Aluno(a): Adriana Kaori Kakazu - RA: 082220004 <br/>\n",
        "Aluno(a): Lucas Oliveira Silva - RA: 082220019 <br/>\n",
        "Aluno(a): Vitoria Kaori Kuriyama - RA: 082220005 <br/>\n",
        "Data: 07/06/2025 <br/>"
      ],
      "metadata": {
        "id": "gyc_Xqs3_kZt"
      }
    },
    {
      "cell_type": "markdown",
      "source": [
        "#1: Preprarando Dataset"
      ],
      "metadata": {
        "id": "BYD1z7NM_nrs"
      }
    },
    {
      "cell_type": "markdown",
      "source": [
        "##1.1: Importações\n"
      ],
      "metadata": {
        "id": "6aVvoAg2ATl8"
      }
    },
    {
      "cell_type": "code",
      "source": [
        "import pandas as pd\n",
        "import matplotlib.pyplot as plt"
      ],
      "metadata": {
        "id": "RblVtM28AV9c"
      },
      "execution_count": null,
      "outputs": []
    },
    {
      "cell_type": "code",
      "execution_count": null,
      "metadata": {
        "id": "MTQN1HGh_fdE"
      },
      "outputs": [],
      "source": [
        "UrlDataset = \"https://raw.githubusercontent.com/Lucas-O-S/N2-2B_AnaliseDados/refs/heads/main/dataset/student_habits_performance.csv\"\n",
        "\n",
        "dataset = pd.read_csv(UrlDataset, sep=\",\")"
      ]
    },
    {
      "cell_type": "markdown",
      "source": [
        "#2: Análise Exploratória de Dados (EDA)"
      ],
      "metadata": {
        "id": "QkkmKvCW3XdQ"
      }
    },
    {
      "cell_type": "markdown",
      "source": [
        "#2.1: Verificação dos dados"
      ],
      "metadata": {
        "id": "L56ohBO03ktP"
      }
    },
    {
      "cell_type": "code",
      "source": [
        "#Verifique a presença de dados ausentes (missing values), valores duplicados ou inconsistências nos dados."
      ],
      "metadata": {
        "id": "obbPQmOd3582"
      },
      "execution_count": null,
      "outputs": []
    },
    {
      "cell_type": "markdown",
      "source": [
        "#2.2: Estatísticas Descritivas"
      ],
      "metadata": {
        "id": "V7qyAoC94cJf"
      }
    },
    {
      "cell_type": "code",
      "source": [
        "#Aplique estatísticas descritivas: média, mediana, desvio padrão, valores mínimos e máximos, contagem de valores únicos etc."
      ],
      "metadata": {
        "id": "Q_1t_wa04ktO"
      },
      "execution_count": null,
      "outputs": []
    },
    {
      "cell_type": "markdown",
      "source": [],
      "metadata": {
        "id": "tJgSZ6IX4nWW"
      }
    },
    {
      "cell_type": "markdown",
      "source": [
        "#2.3: Visualizações Graficas"
      ],
      "metadata": {
        "id": "fg1_jDN94pL-"
      }
    },
    {
      "cell_type": "code",
      "source": [
        "##Construa visualizações gráficas para melhor interpretar os dados"
      ],
      "metadata": {
        "id": "A5GA5gKV46D3"
      },
      "execution_count": null,
      "outputs": []
    },
    {
      "cell_type": "markdown",
      "source": [
        "#3: Perguntas"
      ],
      "metadata": {
        "id": "BgiP8ep64_7_"
      }
    },
    {
      "cell_type": "markdown",
      "source": [
        "# 3.1:"
      ],
      "metadata": {
        "id": "NJZAXUKD5HN9"
      }
    },
    {
      "cell_type": "markdown",
      "source": [
        "# 3.2:"
      ],
      "metadata": {
        "id": "jUy-Um-f5Miu"
      }
    },
    {
      "cell_type": "markdown",
      "source": [
        "# 3.3:"
      ],
      "metadata": {
        "id": "fKfp1Hzf5NdO"
      }
    },
    {
      "cell_type": "markdown",
      "source": [
        "# 3.4:"
      ],
      "metadata": {
        "id": "Y-IMzvVh5ODu"
      }
    },
    {
      "cell_type": "markdown",
      "source": [
        "# 3.5:"
      ],
      "metadata": {
        "id": "dw0Zb-sG5Pem"
      }
    },
    {
      "cell_type": "markdown",
      "source": [
        "# 3.6:"
      ],
      "metadata": {
        "id": "UNqUNZ0S5QXm"
      }
    }
  ]
}